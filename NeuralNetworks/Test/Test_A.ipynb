{
 "cells": [
  {
   "attachments": {},
   "cell_type": "markdown",
   "metadata": {},
   "source": [
    "### Import libraries"
   ]
  },
  {
   "cell_type": "code",
   "execution_count": 27,
   "metadata": {},
   "outputs": [],
   "source": [
    "import numpy as np\n",
    "import pandas as pd\n",
    "from sklearn.model_selection import train_test_split\n",
    "from sklearn.metrics import mean_squared_error\n",
    "from keras.models import Sequential\n",
    "from keras.layers import Dense\n",
    "import matplotlib.pyplot as plt"
   ]
  },
  {
   "attachments": {},
   "cell_type": "markdown",
   "metadata": {},
   "source": [
    "*Import data*\n"
   ]
  },
  {
   "cell_type": "code",
   "execution_count": 14,
   "metadata": {},
   "outputs": [
    {
     "data": {
      "text/html": [
       "<div>\n",
       "<style scoped>\n",
       "    .dataframe tbody tr th:only-of-type {\n",
       "        vertical-align: middle;\n",
       "    }\n",
       "\n",
       "    .dataframe tbody tr th {\n",
       "        vertical-align: top;\n",
       "    }\n",
       "\n",
       "    .dataframe thead th {\n",
       "        text-align: right;\n",
       "    }\n",
       "</style>\n",
       "<table border=\"1\" class=\"dataframe\">\n",
       "  <thead>\n",
       "    <tr style=\"text-align: right;\">\n",
       "      <th></th>\n",
       "      <th>Cement</th>\n",
       "      <th>Blast Furnace Slag</th>\n",
       "      <th>Fly Ash</th>\n",
       "      <th>Water</th>\n",
       "      <th>Superplasticizer</th>\n",
       "      <th>Coarse Aggregate</th>\n",
       "      <th>Fine Aggregate</th>\n",
       "      <th>Age</th>\n",
       "      <th>Strength</th>\n",
       "    </tr>\n",
       "  </thead>\n",
       "  <tbody>\n",
       "    <tr>\n",
       "      <th>0</th>\n",
       "      <td>540.0</td>\n",
       "      <td>0.0</td>\n",
       "      <td>0.0</td>\n",
       "      <td>162.0</td>\n",
       "      <td>2.5</td>\n",
       "      <td>1040.0</td>\n",
       "      <td>676.0</td>\n",
       "      <td>28</td>\n",
       "      <td>79.99</td>\n",
       "    </tr>\n",
       "    <tr>\n",
       "      <th>1</th>\n",
       "      <td>540.0</td>\n",
       "      <td>0.0</td>\n",
       "      <td>0.0</td>\n",
       "      <td>162.0</td>\n",
       "      <td>2.5</td>\n",
       "      <td>1055.0</td>\n",
       "      <td>676.0</td>\n",
       "      <td>28</td>\n",
       "      <td>61.89</td>\n",
       "    </tr>\n",
       "    <tr>\n",
       "      <th>2</th>\n",
       "      <td>332.5</td>\n",
       "      <td>142.5</td>\n",
       "      <td>0.0</td>\n",
       "      <td>228.0</td>\n",
       "      <td>0.0</td>\n",
       "      <td>932.0</td>\n",
       "      <td>594.0</td>\n",
       "      <td>270</td>\n",
       "      <td>40.27</td>\n",
       "    </tr>\n",
       "    <tr>\n",
       "      <th>3</th>\n",
       "      <td>332.5</td>\n",
       "      <td>142.5</td>\n",
       "      <td>0.0</td>\n",
       "      <td>228.0</td>\n",
       "      <td>0.0</td>\n",
       "      <td>932.0</td>\n",
       "      <td>594.0</td>\n",
       "      <td>365</td>\n",
       "      <td>41.05</td>\n",
       "    </tr>\n",
       "    <tr>\n",
       "      <th>4</th>\n",
       "      <td>198.6</td>\n",
       "      <td>132.4</td>\n",
       "      <td>0.0</td>\n",
       "      <td>192.0</td>\n",
       "      <td>0.0</td>\n",
       "      <td>978.4</td>\n",
       "      <td>825.5</td>\n",
       "      <td>360</td>\n",
       "      <td>44.30</td>\n",
       "    </tr>\n",
       "  </tbody>\n",
       "</table>\n",
       "</div>"
      ],
      "text/plain": [
       "   Cement  Blast Furnace Slag  Fly Ash  Water  Superplasticizer   \n",
       "0   540.0                 0.0      0.0  162.0               2.5  \\\n",
       "1   540.0                 0.0      0.0  162.0               2.5   \n",
       "2   332.5               142.5      0.0  228.0               0.0   \n",
       "3   332.5               142.5      0.0  228.0               0.0   \n",
       "4   198.6               132.4      0.0  192.0               0.0   \n",
       "\n",
       "   Coarse Aggregate  Fine Aggregate  Age  Strength  \n",
       "0            1040.0           676.0   28     79.99  \n",
       "1            1055.0           676.0   28     61.89  \n",
       "2             932.0           594.0  270     40.27  \n",
       "3             932.0           594.0  365     41.05  \n",
       "4             978.4           825.5  360     44.30  "
      ]
     },
     "execution_count": 14,
     "metadata": {},
     "output_type": "execute_result"
    }
   ],
   "source": [
    "concrete_data = pd.read_csv('concrete_data.csv')\n",
    "concrete_data.head()"
   ]
  },
  {
   "attachments": {},
   "cell_type": "markdown",
   "metadata": {},
   "source": [
    "Clear data"
   ]
  },
  {
   "cell_type": "code",
   "execution_count": 15,
   "metadata": {},
   "outputs": [
    {
     "data": {
      "text/plain": [
       "Cement                0\n",
       "Blast Furnace Slag    0\n",
       "Fly Ash               0\n",
       "Water                 0\n",
       "Superplasticizer      0\n",
       "Coarse Aggregate      0\n",
       "Fine Aggregate        0\n",
       "Age                   0\n",
       "Strength              0\n",
       "dtype: int64"
      ]
     },
     "execution_count": 15,
     "metadata": {},
     "output_type": "execute_result"
    }
   ],
   "source": [
    "concrete_data.isnull().sum()"
   ]
  },
  {
   "attachments": {},
   "cell_type": "markdown",
   "metadata": {},
   "source": [
    "#### Split data into predictors (X) and target (y)"
   ]
  },
  {
   "cell_type": "code",
   "execution_count": 16,
   "metadata": {},
   "outputs": [],
   "source": [
    "concrete_data_columns = concrete_data.columns\n",
    "predictors = concrete_data[concrete_data_columns[concrete_data_columns != 'Strength']] # all columns except Strength\n",
    "target = concrete_data['Strength'] # Strength column"
   ]
  },
  {
   "cell_type": "code",
   "execution_count": 17,
   "metadata": {},
   "outputs": [
    {
     "data": {
      "text/html": [
       "<div>\n",
       "<style scoped>\n",
       "    .dataframe tbody tr th:only-of-type {\n",
       "        vertical-align: middle;\n",
       "    }\n",
       "\n",
       "    .dataframe tbody tr th {\n",
       "        vertical-align: top;\n",
       "    }\n",
       "\n",
       "    .dataframe thead th {\n",
       "        text-align: right;\n",
       "    }\n",
       "</style>\n",
       "<table border=\"1\" class=\"dataframe\">\n",
       "  <thead>\n",
       "    <tr style=\"text-align: right;\">\n",
       "      <th></th>\n",
       "      <th>Cement</th>\n",
       "      <th>Blast Furnace Slag</th>\n",
       "      <th>Fly Ash</th>\n",
       "      <th>Water</th>\n",
       "      <th>Superplasticizer</th>\n",
       "      <th>Coarse Aggregate</th>\n",
       "      <th>Fine Aggregate</th>\n",
       "      <th>Age</th>\n",
       "    </tr>\n",
       "  </thead>\n",
       "  <tbody>\n",
       "    <tr>\n",
       "      <th>0</th>\n",
       "      <td>540.0</td>\n",
       "      <td>0.0</td>\n",
       "      <td>0.0</td>\n",
       "      <td>162.0</td>\n",
       "      <td>2.5</td>\n",
       "      <td>1040.0</td>\n",
       "      <td>676.0</td>\n",
       "      <td>28</td>\n",
       "    </tr>\n",
       "    <tr>\n",
       "      <th>1</th>\n",
       "      <td>540.0</td>\n",
       "      <td>0.0</td>\n",
       "      <td>0.0</td>\n",
       "      <td>162.0</td>\n",
       "      <td>2.5</td>\n",
       "      <td>1055.0</td>\n",
       "      <td>676.0</td>\n",
       "      <td>28</td>\n",
       "    </tr>\n",
       "    <tr>\n",
       "      <th>2</th>\n",
       "      <td>332.5</td>\n",
       "      <td>142.5</td>\n",
       "      <td>0.0</td>\n",
       "      <td>228.0</td>\n",
       "      <td>0.0</td>\n",
       "      <td>932.0</td>\n",
       "      <td>594.0</td>\n",
       "      <td>270</td>\n",
       "    </tr>\n",
       "    <tr>\n",
       "      <th>3</th>\n",
       "      <td>332.5</td>\n",
       "      <td>142.5</td>\n",
       "      <td>0.0</td>\n",
       "      <td>228.0</td>\n",
       "      <td>0.0</td>\n",
       "      <td>932.0</td>\n",
       "      <td>594.0</td>\n",
       "      <td>365</td>\n",
       "    </tr>\n",
       "    <tr>\n",
       "      <th>4</th>\n",
       "      <td>198.6</td>\n",
       "      <td>132.4</td>\n",
       "      <td>0.0</td>\n",
       "      <td>192.0</td>\n",
       "      <td>0.0</td>\n",
       "      <td>978.4</td>\n",
       "      <td>825.5</td>\n",
       "      <td>360</td>\n",
       "    </tr>\n",
       "  </tbody>\n",
       "</table>\n",
       "</div>"
      ],
      "text/plain": [
       "   Cement  Blast Furnace Slag  Fly Ash  Water  Superplasticizer   \n",
       "0   540.0                 0.0      0.0  162.0               2.5  \\\n",
       "1   540.0                 0.0      0.0  162.0               2.5   \n",
       "2   332.5               142.5      0.0  228.0               0.0   \n",
       "3   332.5               142.5      0.0  228.0               0.0   \n",
       "4   198.6               132.4      0.0  192.0               0.0   \n",
       "\n",
       "   Coarse Aggregate  Fine Aggregate  Age  \n",
       "0            1040.0           676.0   28  \n",
       "1            1055.0           676.0   28  \n",
       "2             932.0           594.0  270  \n",
       "3             932.0           594.0  365  \n",
       "4             978.4           825.5  360  "
      ]
     },
     "execution_count": 17,
     "metadata": {},
     "output_type": "execute_result"
    }
   ],
   "source": [
    "predictors.head()"
   ]
  },
  {
   "cell_type": "code",
   "execution_count": 18,
   "metadata": {},
   "outputs": [
    {
     "data": {
      "text/plain": [
       "0    79.99\n",
       "1    61.89\n",
       "2    40.27\n",
       "3    41.05\n",
       "4    44.30\n",
       "Name: Strength, dtype: float64"
      ]
     },
     "execution_count": 18,
     "metadata": {},
     "output_type": "execute_result"
    }
   ],
   "source": [
    "target.head()"
   ]
  },
  {
   "cell_type": "markdown",
   "metadata": {},
   "source": [
    "### Build a Neural Network"
   ]
  },
  {
   "cell_type": "code",
   "execution_count": 19,
   "metadata": {},
   "outputs": [],
   "source": [
    "# define regression model\n",
    "''' This function create a model were all hidden layers have the same configuration'''\n",
    "def regression_model(layers, neurons, n_cols, activation, optimizer, loss):\n",
    "    # create model\n",
    "    model = Sequential()\n",
    "    for i in range(layers):\n",
    "        model.add(Dense(neurons, activation=activation, input_shape=(n_cols,)))\n",
    "    model.add(Dense(1))\n",
    "    print(f\"Layers created: {i+1}\")\n",
    "    # compile model\n",
    "    model.compile(optimizer=optimizer, loss=loss)\n",
    "    return model"
   ]
  },
  {
   "cell_type": "markdown",
   "metadata": {},
   "source": []
  },
  {
   "cell_type": "code",
   "execution_count": 26,
   "metadata": {},
   "outputs": [
    {
     "name": "stdout",
     "output_type": "stream",
     "text": [
      "Layers created: 1\n"
     ]
    },
    {
     "data": {
      "text/plain": [
       "<keras.engine.sequential.Sequential at 0x7f28ee9d3d00>"
      ]
     },
     "execution_count": 26,
     "metadata": {},
     "output_type": "execute_result"
    }
   ],
   "source": [
    "# build the model\n",
    "n_cols = predictors.shape[1] # number of predictors\n",
    "layers = 1\n",
    "neurons = 10\n",
    "model = regression_model(\n",
    "    layers = layers,\n",
    "    neurons = neurons,\n",
    "    n_cols = n_cols,\n",
    "    activation = \"relu\",\n",
    "    optimizer = \"adam\",\n",
    "    loss = \"mean_squared_error\",\n",
    ")\n",
    "model"
   ]
  },
  {
   "cell_type": "markdown",
   "metadata": {},
   "source": [
    "1. Randomly split the data into a training and test sets by holding 30% of the data for testing. "
   ]
  },
  {
   "cell_type": "code",
   "execution_count": 21,
   "metadata": {},
   "outputs": [],
   "source": [
    "X_train, X_test, y_train, y_test = train_test_split(predictors, target, test_size=0.3, random_state=42)"
   ]
  },
  {
   "attachments": {},
   "cell_type": "markdown",
   "metadata": {},
   "source": [
    "2. Train the model on the training data using 50 epochs"
   ]
  },
  {
   "cell_type": "code",
   "execution_count": 22,
   "metadata": {},
   "outputs": [
    {
     "name": "stdout",
     "output_type": "stream",
     "text": [
      "Epoch 1/50\n",
      "16/16 - 1s - loss: 334162.9375 - val_loss: 255285.9219 - 878ms/epoch - 55ms/step\n",
      "Epoch 2/50\n",
      "16/16 - 0s - loss: 208551.4375 - val_loss: 150254.0781 - 64ms/epoch - 4ms/step\n",
      "Epoch 3/50\n",
      "16/16 - 0s - loss: 120742.2422 - val_loss: 81671.4219 - 73ms/epoch - 5ms/step\n",
      "Epoch 4/50\n",
      "16/16 - 0s - loss: 65376.6914 - val_loss: 42777.7031 - 57ms/epoch - 4ms/step\n",
      "Epoch 5/50\n",
      "16/16 - 0s - loss: 35562.3398 - val_loss: 23136.5820 - 59ms/epoch - 4ms/step\n",
      "Epoch 6/50\n",
      "16/16 - 0s - loss: 20896.6621 - val_loss: 15042.8799 - 57ms/epoch - 4ms/step\n",
      "Epoch 7/50\n",
      "16/16 - 0s - loss: 15298.7861 - val_loss: 12416.3193 - 56ms/epoch - 4ms/step\n",
      "Epoch 8/50\n",
      "16/16 - 0s - loss: 13438.8008 - val_loss: 11638.4502 - 64ms/epoch - 4ms/step\n",
      "Epoch 9/50\n",
      "16/16 - 0s - loss: 12658.4961 - val_loss: 11050.8027 - 78ms/epoch - 5ms/step\n",
      "Epoch 10/50\n",
      "16/16 - 0s - loss: 11895.7412 - val_loss: 10299.7520 - 81ms/epoch - 5ms/step\n",
      "Epoch 11/50\n",
      "16/16 - 0s - loss: 11106.5244 - val_loss: 9638.8350 - 68ms/epoch - 4ms/step\n",
      "Epoch 12/50\n",
      "16/16 - 0s - loss: 10361.1953 - val_loss: 9010.9492 - 73ms/epoch - 5ms/step\n",
      "Epoch 13/50\n",
      "16/16 - 0s - loss: 9678.9326 - val_loss: 8382.3115 - 73ms/epoch - 5ms/step\n",
      "Epoch 14/50\n",
      "16/16 - 0s - loss: 8989.2197 - val_loss: 7825.6343 - 77ms/epoch - 5ms/step\n",
      "Epoch 15/50\n",
      "16/16 - 0s - loss: 8342.3936 - val_loss: 7272.5356 - 72ms/epoch - 4ms/step\n",
      "Epoch 16/50\n",
      "16/16 - 0s - loss: 7725.5322 - val_loss: 6747.2061 - 72ms/epoch - 5ms/step\n",
      "Epoch 17/50\n",
      "16/16 - 0s - loss: 7132.8574 - val_loss: 6274.4126 - 64ms/epoch - 4ms/step\n",
      "Epoch 18/50\n",
      "16/16 - 0s - loss: 6602.2349 - val_loss: 5808.9688 - 63ms/epoch - 4ms/step\n",
      "Epoch 19/50\n",
      "16/16 - 0s - loss: 6086.7061 - val_loss: 5341.1255 - 60ms/epoch - 4ms/step\n",
      "Epoch 20/50\n",
      "16/16 - 0s - loss: 5594.4839 - val_loss: 4960.7373 - 55ms/epoch - 3ms/step\n",
      "Epoch 21/50\n",
      "16/16 - 0s - loss: 5148.9648 - val_loss: 4554.1133 - 81ms/epoch - 5ms/step\n",
      "Epoch 22/50\n",
      "16/16 - 0s - loss: 4729.1016 - val_loss: 4206.4072 - 71ms/epoch - 4ms/step\n",
      "Epoch 23/50\n",
      "16/16 - 0s - loss: 4338.3447 - val_loss: 3872.3516 - 85ms/epoch - 5ms/step\n",
      "Epoch 24/50\n",
      "16/16 - 0s - loss: 3993.0708 - val_loss: 3560.1392 - 88ms/epoch - 6ms/step\n",
      "Epoch 25/50\n",
      "16/16 - 0s - loss: 3653.5505 - val_loss: 3276.2542 - 70ms/epoch - 4ms/step\n",
      "Epoch 26/50\n",
      "16/16 - 0s - loss: 3400.1462 - val_loss: 3052.0356 - 71ms/epoch - 4ms/step\n",
      "Epoch 27/50\n",
      "16/16 - 0s - loss: 3089.6003 - val_loss: 2763.3088 - 62ms/epoch - 4ms/step\n",
      "Epoch 28/50\n",
      "16/16 - 0s - loss: 2828.0549 - val_loss: 2577.7136 - 63ms/epoch - 4ms/step\n",
      "Epoch 29/50\n",
      "16/16 - 0s - loss: 2590.1697 - val_loss: 2358.7185 - 105ms/epoch - 7ms/step\n",
      "Epoch 30/50\n",
      "16/16 - 0s - loss: 2388.1006 - val_loss: 2197.5525 - 73ms/epoch - 5ms/step\n",
      "Epoch 31/50\n",
      "16/16 - 0s - loss: 2195.8767 - val_loss: 2013.4805 - 66ms/epoch - 4ms/step\n",
      "Epoch 32/50\n",
      "16/16 - 0s - loss: 2025.2446 - val_loss: 1857.0298 - 66ms/epoch - 4ms/step\n",
      "Epoch 33/50\n",
      "16/16 - 0s - loss: 1867.2310 - val_loss: 1713.8114 - 69ms/epoch - 4ms/step\n",
      "Epoch 34/50\n",
      "16/16 - 0s - loss: 1722.9607 - val_loss: 1595.8142 - 107ms/epoch - 7ms/step\n",
      "Epoch 35/50\n",
      "16/16 - 0s - loss: 1596.3745 - val_loss: 1477.0558 - 71ms/epoch - 4ms/step\n",
      "Epoch 36/50\n",
      "16/16 - 0s - loss: 1479.5256 - val_loss: 1363.5753 - 71ms/epoch - 4ms/step\n",
      "Epoch 37/50\n",
      "16/16 - 0s - loss: 1370.6830 - val_loss: 1272.0538 - 78ms/epoch - 5ms/step\n",
      "Epoch 38/50\n",
      "16/16 - 0s - loss: 1279.7279 - val_loss: 1184.0751 - 74ms/epoch - 5ms/step\n",
      "Epoch 39/50\n",
      "16/16 - 0s - loss: 1186.9084 - val_loss: 1105.7883 - 80ms/epoch - 5ms/step\n",
      "Epoch 40/50\n",
      "16/16 - 0s - loss: 1104.1490 - val_loss: 1020.3287 - 68ms/epoch - 4ms/step\n",
      "Epoch 41/50\n",
      "16/16 - 0s - loss: 1041.8501 - val_loss: 956.1917 - 68ms/epoch - 4ms/step\n",
      "Epoch 42/50\n",
      "16/16 - 0s - loss: 966.7352 - val_loss: 891.5861 - 72ms/epoch - 4ms/step\n",
      "Epoch 43/50\n",
      "16/16 - 0s - loss: 906.7956 - val_loss: 845.3242 - 76ms/epoch - 5ms/step\n",
      "Epoch 44/50\n",
      "16/16 - 0s - loss: 853.3117 - val_loss: 788.3461 - 68ms/epoch - 4ms/step\n",
      "Epoch 45/50\n",
      "16/16 - 0s - loss: 803.1419 - val_loss: 741.0199 - 68ms/epoch - 4ms/step\n",
      "Epoch 46/50\n",
      "16/16 - 0s - loss: 754.1231 - val_loss: 716.7371 - 71ms/epoch - 4ms/step\n",
      "Epoch 47/50\n",
      "16/16 - 0s - loss: 712.8469 - val_loss: 659.4583 - 68ms/epoch - 4ms/step\n",
      "Epoch 48/50\n",
      "16/16 - 0s - loss: 673.8640 - val_loss: 621.2261 - 65ms/epoch - 4ms/step\n",
      "Epoch 49/50\n",
      "16/16 - 0s - loss: 639.9896 - val_loss: 600.2665 - 64ms/epoch - 4ms/step\n",
      "Epoch 50/50\n",
      "16/16 - 0s - loss: 606.8099 - val_loss: 565.8214 - 90ms/epoch - 6ms/step\n"
     ]
    },
    {
     "data": {
      "text/plain": [
       "<keras.callbacks.History at 0x7f28f364a1a0>"
      ]
     },
     "execution_count": 22,
     "metadata": {},
     "output_type": "execute_result"
    }
   ],
   "source": [
    "# fit the model\n",
    "epochs = 50\n",
    "model.fit(X_train, y_train, validation_split=0.3, epochs=epochs, verbose=2)"
   ]
  },
  {
   "attachments": {},
   "cell_type": "markdown",
   "metadata": {},
   "source": [
    "3. Evaluate the model on the test data and compute the mean squared error between the predicted concrete strength and the actual concrete strength."
   ]
  },
  {
   "cell_type": "code",
   "execution_count": 23,
   "metadata": {},
   "outputs": [
    {
     "name": "stdout",
     "output_type": "stream",
     "text": [
      "10/10 [==============================] - 0s 2ms/step\n",
      "The mean squared error is 489.9660112244174\n"
     ]
    }
   ],
   "source": [
    "y_pred = model.predict(X_test)\n",
    "mse = mean_squared_error(y_test, y_pred)\n",
    "print(f\"The mean squared error is {mse}\")"
   ]
  },
  {
   "attachments": {},
   "cell_type": "markdown",
   "metadata": {},
   "source": [
    "4. Repeat steps 1 - 3, 50 times, i.e., create a list of 50 mean squared errors."
   ]
  },
  {
   "cell_type": "code",
   "execution_count": 24,
   "metadata": {},
   "outputs": [
    {
     "name": "stdout",
     "output_type": "stream",
     "text": [
      "Cicle N: 1\n",
      "10/10 [==============================] - 0s 1ms/step\n",
      "Cicle N: 2\n",
      "10/10 [==============================] - 0s 2ms/step\n",
      "Cicle N: 3\n",
      "10/10 [==============================] - 0s 2ms/step\n",
      "Cicle N: 4\n",
      "10/10 [==============================] - 0s 2ms/step\n",
      "Cicle N: 5\n",
      "10/10 [==============================] - 0s 1ms/step\n",
      "Cicle N: 6\n",
      "10/10 [==============================] - 0s 2ms/step\n",
      "Cicle N: 7\n",
      "10/10 [==============================] - 0s 1ms/step\n",
      "Cicle N: 8\n",
      "10/10 [==============================] - 0s 2ms/step\n",
      "Cicle N: 9\n",
      "10/10 [==============================] - 0s 2ms/step\n",
      "Cicle N: 10\n",
      "10/10 [==============================] - 0s 2ms/step\n",
      "Cicle N: 11\n",
      "10/10 [==============================] - 0s 2ms/step\n",
      "Cicle N: 12\n",
      "10/10 [==============================] - 0s 2ms/step\n",
      "Cicle N: 13\n",
      "10/10 [==============================] - 0s 1ms/step\n",
      "Cicle N: 14\n",
      "10/10 [==============================] - 0s 2ms/step\n",
      "Cicle N: 15\n",
      "10/10 [==============================] - 0s 2ms/step\n",
      "Cicle N: 16\n",
      "10/10 [==============================] - 0s 2ms/step\n",
      "Cicle N: 17\n",
      "10/10 [==============================] - 0s 2ms/step\n",
      "Cicle N: 18\n",
      "10/10 [==============================] - 0s 2ms/step\n",
      "Cicle N: 19\n",
      "10/10 [==============================] - 0s 1ms/step\n",
      "Cicle N: 20\n",
      "10/10 [==============================] - 0s 2ms/step\n",
      "Cicle N: 21\n",
      "10/10 [==============================] - 0s 2ms/step\n",
      "Cicle N: 22\n",
      "10/10 [==============================] - 0s 2ms/step\n",
      "Cicle N: 23\n",
      "10/10 [==============================] - 0s 2ms/step\n",
      "Cicle N: 24\n",
      "10/10 [==============================] - 0s 3ms/step\n",
      "Cicle N: 25\n",
      "10/10 [==============================] - 0s 2ms/step\n",
      "Cicle N: 26\n",
      "10/10 [==============================] - 0s 2ms/step\n",
      "Cicle N: 27\n",
      "10/10 [==============================] - 0s 2ms/step\n",
      "Cicle N: 28\n",
      "10/10 [==============================] - 0s 2ms/step\n",
      "Cicle N: 29\n",
      "10/10 [==============================] - 0s 2ms/step\n",
      "Cicle N: 30\n",
      "10/10 [==============================] - 0s 2ms/step\n",
      "Cicle N: 31\n",
      "10/10 [==============================] - 0s 5ms/step\n",
      "Cicle N: 32\n",
      "10/10 [==============================] - 0s 2ms/step\n",
      "Cicle N: 33\n",
      "10/10 [==============================] - 0s 2ms/step\n",
      "Cicle N: 34\n",
      "10/10 [==============================] - 0s 2ms/step\n",
      "Cicle N: 35\n",
      "10/10 [==============================] - 0s 1ms/step\n",
      "Cicle N: 36\n",
      "10/10 [==============================] - 0s 2ms/step\n",
      "Cicle N: 37\n",
      "10/10 [==============================] - 0s 2ms/step\n",
      "Cicle N: 38\n",
      "10/10 [==============================] - 0s 2ms/step\n",
      "Cicle N: 39\n",
      "10/10 [==============================] - 0s 1ms/step\n",
      "Cicle N: 40\n",
      "10/10 [==============================] - 0s 2ms/step\n",
      "Cicle N: 41\n",
      "10/10 [==============================] - 0s 2ms/step\n",
      "Cicle N: 42\n",
      "10/10 [==============================] - 0s 2ms/step\n",
      "Cicle N: 43\n",
      "10/10 [==============================] - 0s 2ms/step\n",
      "Cicle N: 44\n",
      "10/10 [==============================] - 0s 2ms/step\n",
      "Cicle N: 45\n",
      "10/10 [==============================] - 0s 2ms/step\n",
      "Cicle N: 46\n",
      "10/10 [==============================] - 0s 2ms/step\n",
      "Cicle N: 47\n",
      "10/10 [==============================] - 0s 2ms/step\n",
      "Cicle N: 48\n",
      "10/10 [==============================] - 0s 2ms/step\n",
      "Cicle N: 49\n",
      "10/10 [==============================] - 0s 2ms/step\n",
      "Cicle N: 50\n",
      "10/10 [==============================] - 0s 2ms/step\n"
     ]
    }
   ],
   "source": [
    "epochs = 50\n",
    "mse_list = []\n",
    "for j in range(50):\n",
    "    print(f\"Cicle N: {j+1}\")\n",
    "    X_train, X_test, y_train, y_test = train_test_split(predictors, target, test_size=0.3, random_state=42)\n",
    "    model.fit(X_train, y_train, epochs=epochs, verbose=0)\n",
    "    y_pred = model.predict(X_test)\n",
    "    mse = mean_squared_error(y_test, y_pred)\n",
    "    mse_list.append(mse)"
   ]
  },
  {
   "attachments": {},
   "cell_type": "markdown",
   "metadata": {},
   "source": [
    "5. Report the mean and the standard deviation of the mean squared errors."
   ]
  },
  {
   "cell_type": "code",
   "execution_count": 25,
   "metadata": {},
   "outputs": [
    {
     "name": "stdout",
     "output_type": "stream",
     "text": [
      "Mean of MSE is: 111.81600611235517\n",
      "STD of MSE is: 5.1043478112876155\n"
     ]
    }
   ],
   "source": [
    "mse_mean = np.mean(mse_list)\n",
    "mse_std = np.std(mse_list)\n",
    "print(f\"Mean of MSE is: {mse_mean}\")\n",
    "print(f\"STD of MSE is: {mse_std}\")"
   ]
  },
  {
   "cell_type": "code",
   "execution_count": 28,
   "metadata": {},
   "outputs": [
    {
     "data": {
      "image/png": "[encoded data removed]",
      "text/plain": [
       "<Figure size 640x480 with 1 Axes>"
      ]
     },
     "metadata": {},
     "output_type": "display_data"
    }
   ],
   "source": [
    "plt.plot(mse_list)\n",
    "plt.xlabel('Iteration')\n",
    "plt.ylabel('Mean Squared Error')\n",
    "plt.title('Mean Squared Error per Iteration')\n",
    "plt.show()"
   ]
  },
  {
   "attachments": {},
   "cell_type": "markdown",
   "metadata": {},
   "source": [
    "### Thank you for check my activity!\n",
    "\n",
    "This notebook was created by [Daniel Sanchez](www.linkedin.com/in/cesar-daniel-sanchez)."
   ]
  }
 ],
 "metadata": {
  "kernelspec": {
   "display_name": ".venv",
   "language": "python",
   "name": "python3"
  },
  "language_info": {
   "codemirror_mode": {
    "name": "ipython",
    "version": 3
   },
   "file_extension": ".py",
   "mimetype": "text/x-python",
   "name": "python",
   "nbconvert_exporter": "python",
   "pygments_lexer": "ipython3",
   "version": "3.10.6"
  },
  "orig_nbformat": 4,
  "vscode": {
   "interpreter": {
    "hash": "8c0bac39d1249b3d7958968ac2417c935a0a7a62715a037dee11bd5602042545"
   }
  }
 },
 "nbformat": 4,
 "nbformat_minor": 2
}
