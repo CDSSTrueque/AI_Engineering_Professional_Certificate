{
 "cells": [
  {
   "attachments": {},
   "cell_type": "markdown",
   "metadata": {},
   "source": [
    "### Import libraries"
   ]
  },
  {
   "cell_type": "code",
   "execution_count": 14,
   "metadata": {},
   "outputs": [],
   "source": [
    "import numpy as np\n",
    "import pandas as pd\n",
    "from sklearn.model_selection import train_test_split\n",
    "from sklearn.metrics import mean_squared_error\n",
    "from keras.models import Sequential\n",
    "from keras.layers import Dense\n",
    "import matplotlib.pyplot as plt"
   ]
  },
  {
   "attachments": {},
   "cell_type": "markdown",
   "metadata": {},
   "source": [
    "*Import data*\n"
   ]
  },
  {
   "cell_type": "code",
   "execution_count": 15,
   "metadata": {},
   "outputs": [
    {
     "data": {
      "text/html": [
       "<div>\n",
       "<style scoped>\n",
       "    .dataframe tbody tr th:only-of-type {\n",
       "        vertical-align: middle;\n",
       "    }\n",
       "\n",
       "    .dataframe tbody tr th {\n",
       "        vertical-align: top;\n",
       "    }\n",
       "\n",
       "    .dataframe thead th {\n",
       "        text-align: right;\n",
       "    }\n",
       "</style>\n",
       "<table border=\"1\" class=\"dataframe\">\n",
       "  <thead>\n",
       "    <tr style=\"text-align: right;\">\n",
       "      <th></th>\n",
       "      <th>Cement</th>\n",
       "      <th>Blast Furnace Slag</th>\n",
       "      <th>Fly Ash</th>\n",
       "      <th>Water</th>\n",
       "      <th>Superplasticizer</th>\n",
       "      <th>Coarse Aggregate</th>\n",
       "      <th>Fine Aggregate</th>\n",
       "      <th>Age</th>\n",
       "      <th>Strength</th>\n",
       "    </tr>\n",
       "  </thead>\n",
       "  <tbody>\n",
       "    <tr>\n",
       "      <th>0</th>\n",
       "      <td>540.0</td>\n",
       "      <td>0.0</td>\n",
       "      <td>0.0</td>\n",
       "      <td>162.0</td>\n",
       "      <td>2.5</td>\n",
       "      <td>1040.0</td>\n",
       "      <td>676.0</td>\n",
       "      <td>28</td>\n",
       "      <td>79.99</td>\n",
       "    </tr>\n",
       "    <tr>\n",
       "      <th>1</th>\n",
       "      <td>540.0</td>\n",
       "      <td>0.0</td>\n",
       "      <td>0.0</td>\n",
       "      <td>162.0</td>\n",
       "      <td>2.5</td>\n",
       "      <td>1055.0</td>\n",
       "      <td>676.0</td>\n",
       "      <td>28</td>\n",
       "      <td>61.89</td>\n",
       "    </tr>\n",
       "    <tr>\n",
       "      <th>2</th>\n",
       "      <td>332.5</td>\n",
       "      <td>142.5</td>\n",
       "      <td>0.0</td>\n",
       "      <td>228.0</td>\n",
       "      <td>0.0</td>\n",
       "      <td>932.0</td>\n",
       "      <td>594.0</td>\n",
       "      <td>270</td>\n",
       "      <td>40.27</td>\n",
       "    </tr>\n",
       "    <tr>\n",
       "      <th>3</th>\n",
       "      <td>332.5</td>\n",
       "      <td>142.5</td>\n",
       "      <td>0.0</td>\n",
       "      <td>228.0</td>\n",
       "      <td>0.0</td>\n",
       "      <td>932.0</td>\n",
       "      <td>594.0</td>\n",
       "      <td>365</td>\n",
       "      <td>41.05</td>\n",
       "    </tr>\n",
       "    <tr>\n",
       "      <th>4</th>\n",
       "      <td>198.6</td>\n",
       "      <td>132.4</td>\n",
       "      <td>0.0</td>\n",
       "      <td>192.0</td>\n",
       "      <td>0.0</td>\n",
       "      <td>978.4</td>\n",
       "      <td>825.5</td>\n",
       "      <td>360</td>\n",
       "      <td>44.30</td>\n",
       "    </tr>\n",
       "  </tbody>\n",
       "</table>\n",
       "</div>"
      ],
      "text/plain": [
       "   Cement  Blast Furnace Slag  Fly Ash  Water  Superplasticizer   \n",
       "0   540.0                 0.0      0.0  162.0               2.5  \\\n",
       "1   540.0                 0.0      0.0  162.0               2.5   \n",
       "2   332.5               142.5      0.0  228.0               0.0   \n",
       "3   332.5               142.5      0.0  228.0               0.0   \n",
       "4   198.6               132.4      0.0  192.0               0.0   \n",
       "\n",
       "   Coarse Aggregate  Fine Aggregate  Age  Strength  \n",
       "0            1040.0           676.0   28     79.99  \n",
       "1            1055.0           676.0   28     61.89  \n",
       "2             932.0           594.0  270     40.27  \n",
       "3             932.0           594.0  365     41.05  \n",
       "4             978.4           825.5  360     44.30  "
      ]
     },
     "execution_count": 15,
     "metadata": {},
     "output_type": "execute_result"
    }
   ],
   "source": [
    "concrete_data = pd.read_csv('concrete_data.csv')\n",
    "concrete_data.head()"
   ]
  },
  {
   "attachments": {},
   "cell_type": "markdown",
   "metadata": {},
   "source": [
    "Clear data"
   ]
  },
  {
   "cell_type": "code",
   "execution_count": 16,
   "metadata": {},
   "outputs": [
    {
     "data": {
      "text/plain": [
       "Cement                0\n",
       "Blast Furnace Slag    0\n",
       "Fly Ash               0\n",
       "Water                 0\n",
       "Superplasticizer      0\n",
       "Coarse Aggregate      0\n",
       "Fine Aggregate        0\n",
       "Age                   0\n",
       "Strength              0\n",
       "dtype: int64"
      ]
     },
     "execution_count": 16,
     "metadata": {},
     "output_type": "execute_result"
    }
   ],
   "source": [
    "concrete_data.isnull().sum()"
   ]
  },
  {
   "attachments": {},
   "cell_type": "markdown",
   "metadata": {},
   "source": [
    "#### Split data into predictors (X) and target (y)"
   ]
  },
  {
   "cell_type": "code",
   "execution_count": 17,
   "metadata": {},
   "outputs": [],
   "source": [
    "concrete_data_columns = concrete_data.columns\n",
    "predictors = concrete_data[concrete_data_columns[concrete_data_columns != 'Strength']] # all columns except Strength\n",
    "target = concrete_data['Strength'] # Strength column"
   ]
  },
  {
   "cell_type": "code",
   "execution_count": 18,
   "metadata": {},
   "outputs": [
    {
     "data": {
      "text/html": [
       "<div>\n",
       "<style scoped>\n",
       "    .dataframe tbody tr th:only-of-type {\n",
       "        vertical-align: middle;\n",
       "    }\n",
       "\n",
       "    .dataframe tbody tr th {\n",
       "        vertical-align: top;\n",
       "    }\n",
       "\n",
       "    .dataframe thead th {\n",
       "        text-align: right;\n",
       "    }\n",
       "</style>\n",
       "<table border=\"1\" class=\"dataframe\">\n",
       "  <thead>\n",
       "    <tr style=\"text-align: right;\">\n",
       "      <th></th>\n",
       "      <th>Cement</th>\n",
       "      <th>Blast Furnace Slag</th>\n",
       "      <th>Fly Ash</th>\n",
       "      <th>Water</th>\n",
       "      <th>Superplasticizer</th>\n",
       "      <th>Coarse Aggregate</th>\n",
       "      <th>Fine Aggregate</th>\n",
       "      <th>Age</th>\n",
       "    </tr>\n",
       "  </thead>\n",
       "  <tbody>\n",
       "    <tr>\n",
       "      <th>0</th>\n",
       "      <td>540.0</td>\n",
       "      <td>0.0</td>\n",
       "      <td>0.0</td>\n",
       "      <td>162.0</td>\n",
       "      <td>2.5</td>\n",
       "      <td>1040.0</td>\n",
       "      <td>676.0</td>\n",
       "      <td>28</td>\n",
       "    </tr>\n",
       "    <tr>\n",
       "      <th>1</th>\n",
       "      <td>540.0</td>\n",
       "      <td>0.0</td>\n",
       "      <td>0.0</td>\n",
       "      <td>162.0</td>\n",
       "      <td>2.5</td>\n",
       "      <td>1055.0</td>\n",
       "      <td>676.0</td>\n",
       "      <td>28</td>\n",
       "    </tr>\n",
       "    <tr>\n",
       "      <th>2</th>\n",
       "      <td>332.5</td>\n",
       "      <td>142.5</td>\n",
       "      <td>0.0</td>\n",
       "      <td>228.0</td>\n",
       "      <td>0.0</td>\n",
       "      <td>932.0</td>\n",
       "      <td>594.0</td>\n",
       "      <td>270</td>\n",
       "    </tr>\n",
       "    <tr>\n",
       "      <th>3</th>\n",
       "      <td>332.5</td>\n",
       "      <td>142.5</td>\n",
       "      <td>0.0</td>\n",
       "      <td>228.0</td>\n",
       "      <td>0.0</td>\n",
       "      <td>932.0</td>\n",
       "      <td>594.0</td>\n",
       "      <td>365</td>\n",
       "    </tr>\n",
       "    <tr>\n",
       "      <th>4</th>\n",
       "      <td>198.6</td>\n",
       "      <td>132.4</td>\n",
       "      <td>0.0</td>\n",
       "      <td>192.0</td>\n",
       "      <td>0.0</td>\n",
       "      <td>978.4</td>\n",
       "      <td>825.5</td>\n",
       "      <td>360</td>\n",
       "    </tr>\n",
       "  </tbody>\n",
       "</table>\n",
       "</div>"
      ],
      "text/plain": [
       "   Cement  Blast Furnace Slag  Fly Ash  Water  Superplasticizer   \n",
       "0   540.0                 0.0      0.0  162.0               2.5  \\\n",
       "1   540.0                 0.0      0.0  162.0               2.5   \n",
       "2   332.5               142.5      0.0  228.0               0.0   \n",
       "3   332.5               142.5      0.0  228.0               0.0   \n",
       "4   198.6               132.4      0.0  192.0               0.0   \n",
       "\n",
       "   Coarse Aggregate  Fine Aggregate  Age  \n",
       "0            1040.0           676.0   28  \n",
       "1            1055.0           676.0   28  \n",
       "2             932.0           594.0  270  \n",
       "3             932.0           594.0  365  \n",
       "4             978.4           825.5  360  "
      ]
     },
     "execution_count": 18,
     "metadata": {},
     "output_type": "execute_result"
    }
   ],
   "source": [
    "predictors.head()"
   ]
  },
  {
   "cell_type": "code",
   "execution_count": 19,
   "metadata": {},
   "outputs": [
    {
     "data": {
      "text/plain": [
       "0    79.99\n",
       "1    61.89\n",
       "2    40.27\n",
       "3    41.05\n",
       "4    44.30\n",
       "Name: Strength, dtype: float64"
      ]
     },
     "execution_count": 19,
     "metadata": {},
     "output_type": "execute_result"
    }
   ],
   "source": [
    "target.head()"
   ]
  },
  {
   "attachments": {},
   "cell_type": "markdown",
   "metadata": {},
   "source": [
    "#### Data normalization"
   ]
  },
  {
   "cell_type": "code",
   "execution_count": 20,
   "metadata": {},
   "outputs": [
    {
     "data": {
      "text/html": [
       "<div>\n",
       "<style scoped>\n",
       "    .dataframe tbody tr th:only-of-type {\n",
       "        vertical-align: middle;\n",
       "    }\n",
       "\n",
       "    .dataframe tbody tr th {\n",
       "        vertical-align: top;\n",
       "    }\n",
       "\n",
       "    .dataframe thead th {\n",
       "        text-align: right;\n",
       "    }\n",
       "</style>\n",
       "<table border=\"1\" class=\"dataframe\">\n",
       "  <thead>\n",
       "    <tr style=\"text-align: right;\">\n",
       "      <th></th>\n",
       "      <th>Cement</th>\n",
       "      <th>Blast Furnace Slag</th>\n",
       "      <th>Fly Ash</th>\n",
       "      <th>Water</th>\n",
       "      <th>Superplasticizer</th>\n",
       "      <th>Coarse Aggregate</th>\n",
       "      <th>Fine Aggregate</th>\n",
       "      <th>Age</th>\n",
       "    </tr>\n",
       "  </thead>\n",
       "  <tbody>\n",
       "    <tr>\n",
       "      <th>0</th>\n",
       "      <td>2.476712</td>\n",
       "      <td>-0.856472</td>\n",
       "      <td>-0.846733</td>\n",
       "      <td>-0.916319</td>\n",
       "      <td>-0.620147</td>\n",
       "      <td>0.862735</td>\n",
       "      <td>-1.217079</td>\n",
       "      <td>-0.279597</td>\n",
       "    </tr>\n",
       "    <tr>\n",
       "      <th>1</th>\n",
       "      <td>2.476712</td>\n",
       "      <td>-0.856472</td>\n",
       "      <td>-0.846733</td>\n",
       "      <td>-0.916319</td>\n",
       "      <td>-0.620147</td>\n",
       "      <td>1.055651</td>\n",
       "      <td>-1.217079</td>\n",
       "      <td>-0.279597</td>\n",
       "    </tr>\n",
       "    <tr>\n",
       "      <th>2</th>\n",
       "      <td>0.491187</td>\n",
       "      <td>0.795140</td>\n",
       "      <td>-0.846733</td>\n",
       "      <td>2.174405</td>\n",
       "      <td>-1.038638</td>\n",
       "      <td>-0.526262</td>\n",
       "      <td>-2.239829</td>\n",
       "      <td>3.551340</td>\n",
       "    </tr>\n",
       "    <tr>\n",
       "      <th>3</th>\n",
       "      <td>0.491187</td>\n",
       "      <td>0.795140</td>\n",
       "      <td>-0.846733</td>\n",
       "      <td>2.174405</td>\n",
       "      <td>-1.038638</td>\n",
       "      <td>-0.526262</td>\n",
       "      <td>-2.239829</td>\n",
       "      <td>5.055221</td>\n",
       "    </tr>\n",
       "    <tr>\n",
       "      <th>4</th>\n",
       "      <td>-0.790075</td>\n",
       "      <td>0.678079</td>\n",
       "      <td>-0.846733</td>\n",
       "      <td>0.488555</td>\n",
       "      <td>-1.038638</td>\n",
       "      <td>0.070492</td>\n",
       "      <td>0.647569</td>\n",
       "      <td>4.976069</td>\n",
       "    </tr>\n",
       "  </tbody>\n",
       "</table>\n",
       "</div>"
      ],
      "text/plain": [
       "     Cement  Blast Furnace Slag   Fly Ash     Water  Superplasticizer   \n",
       "0  2.476712           -0.856472 -0.846733 -0.916319         -0.620147  \\\n",
       "1  2.476712           -0.856472 -0.846733 -0.916319         -0.620147   \n",
       "2  0.491187            0.795140 -0.846733  2.174405         -1.038638   \n",
       "3  0.491187            0.795140 -0.846733  2.174405         -1.038638   \n",
       "4 -0.790075            0.678079 -0.846733  0.488555         -1.038638   \n",
       "\n",
       "   Coarse Aggregate  Fine Aggregate       Age  \n",
       "0          0.862735       -1.217079 -0.279597  \n",
       "1          1.055651       -1.217079 -0.279597  \n",
       "2         -0.526262       -2.239829  3.551340  \n",
       "3         -0.526262       -2.239829  5.055221  \n",
       "4          0.070492        0.647569  4.976069  "
      ]
     },
     "execution_count": 20,
     "metadata": {},
     "output_type": "execute_result"
    }
   ],
   "source": [
    "predictors_norm = (predictors - predictors.mean()) / predictors.std()\n",
    "predictors_norm.head()"
   ]
  },
  {
   "cell_type": "markdown",
   "metadata": {},
   "source": [
    "### Build a Neural Network"
   ]
  },
  {
   "cell_type": "code",
   "execution_count": 21,
   "metadata": {},
   "outputs": [],
   "source": [
    "# define regression model\n",
    "''' This function create a model were all hidden layers have the same configuration'''\n",
    "def regression_model(layers, neurons, n_cols, activation, optimizer, loss):\n",
    "    # create model\n",
    "    model = Sequential()\n",
    "    for i in range(layers):\n",
    "        model.add(Dense(neurons, activation=activation, input_shape=(n_cols,)))\n",
    "    model.add(Dense(1))\n",
    "    print(f\"Layers created: {i+1}\")\n",
    "    # compile model\n",
    "    model.compile(optimizer=optimizer, loss=loss)\n",
    "    return model"
   ]
  },
  {
   "cell_type": "markdown",
   "metadata": {},
   "source": []
  },
  {
   "cell_type": "code",
   "execution_count": 22,
   "metadata": {},
   "outputs": [
    {
     "name": "stdout",
     "output_type": "stream",
     "text": [
      "Layers created: 1\n"
     ]
    },
    {
     "data": {
      "text/plain": [
       "<keras.engine.sequential.Sequential at 0x7fbfd3a177f0>"
      ]
     },
     "execution_count": 22,
     "metadata": {},
     "output_type": "execute_result"
    }
   ],
   "source": [
    "# build the model\n",
    "n_cols = predictors_norm.shape[1] # number of predictors\n",
    "layers = 1\n",
    "neurons = 10\n",
    "model = regression_model(\n",
    "    layers = layers,\n",
    "    neurons = neurons,\n",
    "    n_cols = n_cols,\n",
    "    activation = \"relu\",\n",
    "    optimizer = \"adam\",\n",
    "    loss = \"mean_squared_error\",\n",
    ")\n",
    "model"
   ]
  },
  {
   "cell_type": "markdown",
   "metadata": {},
   "source": [
    "1. Randomly split the data into a training and test sets by holding 30% of the data for testing. "
   ]
  },
  {
   "cell_type": "code",
   "execution_count": 23,
   "metadata": {},
   "outputs": [],
   "source": [
    "X_train, X_test, y_train, y_test = train_test_split(predictors, target, test_size=0.3, random_state=42)"
   ]
  },
  {
   "attachments": {},
   "cell_type": "markdown",
   "metadata": {},
   "source": [
    "2. Train the model on the training data using 50 epochs"
   ]
  },
  {
   "cell_type": "code",
   "execution_count": 24,
   "metadata": {},
   "outputs": [
    {
     "name": "stdout",
     "output_type": "stream",
     "text": [
      "Epoch 1/100\n",
      "16/16 - 1s - loss: 28051.7617 - val_loss: 16460.4961 - 746ms/epoch - 47ms/step\n",
      "Epoch 2/100\n",
      "16/16 - 0s - loss: 10569.3643 - val_loss: 5383.4868 - 64ms/epoch - 4ms/step\n",
      "Epoch 3/100\n",
      "16/16 - 0s - loss: 3757.8625 - val_loss: 2474.2544 - 70ms/epoch - 4ms/step\n",
      "Epoch 4/100\n",
      "16/16 - 0s - loss: 2418.9736 - val_loss: 2182.9900 - 64ms/epoch - 4ms/step\n",
      "Epoch 5/100\n",
      "16/16 - 0s - loss: 2283.3750 - val_loss: 2083.0371 - 56ms/epoch - 4ms/step\n",
      "Epoch 6/100\n",
      "16/16 - 0s - loss: 2143.7710 - val_loss: 1959.6396 - 71ms/epoch - 4ms/step\n",
      "Epoch 7/100\n",
      "16/16 - 0s - loss: 2014.7556 - val_loss: 1846.6361 - 56ms/epoch - 3ms/step\n",
      "Epoch 8/100\n",
      "16/16 - 0s - loss: 1889.3607 - val_loss: 1737.1084 - 62ms/epoch - 4ms/step\n",
      "Epoch 9/100\n",
      "16/16 - 0s - loss: 1763.9301 - val_loss: 1627.8591 - 55ms/epoch - 3ms/step\n",
      "Epoch 10/100\n",
      "16/16 - 0s - loss: 1640.7372 - val_loss: 1514.2947 - 60ms/epoch - 4ms/step\n",
      "Epoch 11/100\n",
      "16/16 - 0s - loss: 1519.2661 - val_loss: 1408.7963 - 68ms/epoch - 4ms/step\n",
      "Epoch 12/100\n",
      "16/16 - 0s - loss: 1406.9213 - val_loss: 1307.8951 - 166ms/epoch - 10ms/step\n",
      "Epoch 13/100\n",
      "16/16 - 0s - loss: 1301.4500 - val_loss: 1209.7894 - 94ms/epoch - 6ms/step\n",
      "Epoch 14/100\n",
      "16/16 - 0s - loss: 1200.0411 - val_loss: 1120.9847 - 79ms/epoch - 5ms/step\n",
      "Epoch 15/100\n",
      "16/16 - 0s - loss: 1107.1465 - val_loss: 1036.9105 - 61ms/epoch - 4ms/step\n",
      "Epoch 16/100\n",
      "16/16 - 0s - loss: 1020.7897 - val_loss: 955.4331 - 56ms/epoch - 3ms/step\n",
      "Epoch 17/100\n",
      "16/16 - 0s - loss: 939.3384 - val_loss: 884.7275 - 59ms/epoch - 4ms/step\n",
      "Epoch 18/100\n",
      "16/16 - 0s - loss: 863.9106 - val_loss: 813.6863 - 56ms/epoch - 3ms/step\n",
      "Epoch 19/100\n",
      "16/16 - 0s - loss: 791.6100 - val_loss: 746.5973 - 57ms/epoch - 4ms/step\n",
      "Epoch 20/100\n",
      "16/16 - 0s - loss: 727.7203 - val_loss: 686.2340 - 62ms/epoch - 4ms/step\n",
      "Epoch 21/100\n",
      "16/16 - 0s - loss: 668.7682 - val_loss: 632.4896 - 55ms/epoch - 3ms/step\n",
      "Epoch 22/100\n",
      "16/16 - 0s - loss: 618.1453 - val_loss: 584.3740 - 62ms/epoch - 4ms/step\n",
      "Epoch 23/100\n",
      "16/16 - 0s - loss: 571.6544 - val_loss: 541.4410 - 59ms/epoch - 4ms/step\n",
      "Epoch 24/100\n",
      "16/16 - 0s - loss: 530.6505 - val_loss: 500.2592 - 58ms/epoch - 4ms/step\n",
      "Epoch 25/100\n",
      "16/16 - 0s - loss: 497.8371 - val_loss: 461.6742 - 57ms/epoch - 4ms/step\n",
      "Epoch 26/100\n",
      "16/16 - 0s - loss: 466.1760 - val_loss: 434.0429 - 62ms/epoch - 4ms/step\n",
      "Epoch 27/100\n",
      "16/16 - 0s - loss: 439.9252 - val_loss: 406.6046 - 54ms/epoch - 3ms/step\n",
      "Epoch 28/100\n",
      "16/16 - 0s - loss: 417.9745 - val_loss: 381.5458 - 58ms/epoch - 4ms/step\n",
      "Epoch 29/100\n",
      "16/16 - 0s - loss: 399.0580 - val_loss: 360.7937 - 55ms/epoch - 3ms/step\n",
      "Epoch 30/100\n",
      "16/16 - 0s - loss: 381.2371 - val_loss: 344.4537 - 57ms/epoch - 4ms/step\n",
      "Epoch 31/100\n",
      "16/16 - 0s - loss: 366.4562 - val_loss: 330.0443 - 58ms/epoch - 4ms/step\n",
      "Epoch 32/100\n",
      "16/16 - 0s - loss: 354.0843 - val_loss: 315.8291 - 56ms/epoch - 4ms/step\n",
      "Epoch 33/100\n",
      "16/16 - 0s - loss: 342.8470 - val_loss: 306.2254 - 62ms/epoch - 4ms/step\n",
      "Epoch 34/100\n",
      "16/16 - 0s - loss: 334.2245 - val_loss: 295.9520 - 59ms/epoch - 4ms/step\n",
      "Epoch 35/100\n",
      "16/16 - 0s - loss: 326.9374 - val_loss: 287.5162 - 58ms/epoch - 4ms/step\n",
      "Epoch 36/100\n",
      "16/16 - 0s - loss: 319.1170 - val_loss: 282.3922 - 59ms/epoch - 4ms/step\n",
      "Epoch 37/100\n",
      "16/16 - 0s - loss: 313.2544 - val_loss: 276.6437 - 63ms/epoch - 4ms/step\n",
      "Epoch 38/100\n",
      "16/16 - 0s - loss: 307.3767 - val_loss: 270.9099 - 57ms/epoch - 4ms/step\n",
      "Epoch 39/100\n",
      "16/16 - 0s - loss: 303.2311 - val_loss: 265.6088 - 56ms/epoch - 4ms/step\n",
      "Epoch 40/100\n",
      "16/16 - 0s - loss: 298.4308 - val_loss: 264.2460 - 55ms/epoch - 3ms/step\n",
      "Epoch 41/100\n",
      "16/16 - 0s - loss: 293.5214 - val_loss: 257.8755 - 58ms/epoch - 4ms/step\n",
      "Epoch 42/100\n",
      "16/16 - 0s - loss: 289.7542 - val_loss: 254.5032 - 53ms/epoch - 3ms/step\n",
      "Epoch 43/100\n",
      "16/16 - 0s - loss: 286.2999 - val_loss: 251.8293 - 56ms/epoch - 3ms/step\n",
      "Epoch 44/100\n",
      "16/16 - 0s - loss: 282.6715 - val_loss: 249.2301 - 54ms/epoch - 3ms/step\n",
      "Epoch 45/100\n",
      "16/16 - 0s - loss: 279.6049 - val_loss: 247.1451 - 58ms/epoch - 4ms/step\n",
      "Epoch 46/100\n",
      "16/16 - 0s - loss: 276.6758 - val_loss: 244.1258 - 55ms/epoch - 3ms/step\n",
      "Epoch 47/100\n",
      "16/16 - 0s - loss: 274.1054 - val_loss: 242.9299 - 56ms/epoch - 4ms/step\n",
      "Epoch 48/100\n",
      "16/16 - 0s - loss: 270.6381 - val_loss: 239.8776 - 56ms/epoch - 4ms/step\n",
      "Epoch 49/100\n",
      "16/16 - 0s - loss: 268.8494 - val_loss: 238.4039 - 57ms/epoch - 4ms/step\n",
      "Epoch 50/100\n",
      "16/16 - 0s - loss: 266.8063 - val_loss: 236.9315 - 57ms/epoch - 4ms/step\n",
      "Epoch 51/100\n",
      "16/16 - 0s - loss: 263.8919 - val_loss: 234.7894 - 57ms/epoch - 4ms/step\n",
      "Epoch 52/100\n",
      "16/16 - 0s - loss: 261.6598 - val_loss: 234.7644 - 55ms/epoch - 3ms/step\n",
      "Epoch 53/100\n",
      "16/16 - 0s - loss: 259.9784 - val_loss: 232.0158 - 55ms/epoch - 3ms/step\n",
      "Epoch 54/100\n",
      "16/16 - 0s - loss: 257.2825 - val_loss: 231.5353 - 54ms/epoch - 3ms/step\n",
      "Epoch 55/100\n",
      "16/16 - 0s - loss: 256.1246 - val_loss: 230.8004 - 60ms/epoch - 4ms/step\n",
      "Epoch 56/100\n",
      "16/16 - 0s - loss: 254.6347 - val_loss: 228.5853 - 58ms/epoch - 4ms/step\n",
      "Epoch 57/100\n",
      "16/16 - 0s - loss: 252.0303 - val_loss: 227.1576 - 58ms/epoch - 4ms/step\n",
      "Epoch 58/100\n",
      "16/16 - 0s - loss: 250.1590 - val_loss: 227.6501 - 62ms/epoch - 4ms/step\n",
      "Epoch 59/100\n",
      "16/16 - 0s - loss: 248.8049 - val_loss: 224.5076 - 55ms/epoch - 3ms/step\n",
      "Epoch 60/100\n",
      "16/16 - 0s - loss: 246.9672 - val_loss: 224.2148 - 59ms/epoch - 4ms/step\n",
      "Epoch 61/100\n",
      "16/16 - 0s - loss: 247.2468 - val_loss: 224.7312 - 61ms/epoch - 4ms/step\n",
      "Epoch 62/100\n",
      "16/16 - 0s - loss: 243.9511 - val_loss: 221.4543 - 53ms/epoch - 3ms/step\n",
      "Epoch 63/100\n",
      "16/16 - 0s - loss: 243.5091 - val_loss: 221.5959 - 58ms/epoch - 4ms/step\n",
      "Epoch 64/100\n",
      "16/16 - 0s - loss: 241.2154 - val_loss: 219.8390 - 56ms/epoch - 3ms/step\n",
      "Epoch 65/100\n",
      "16/16 - 0s - loss: 239.7056 - val_loss: 219.6126 - 59ms/epoch - 4ms/step\n",
      "Epoch 66/100\n",
      "16/16 - 0s - loss: 238.6024 - val_loss: 217.9594 - 104ms/epoch - 7ms/step\n",
      "Epoch 67/100\n",
      "16/16 - 0s - loss: 238.1932 - val_loss: 217.6914 - 99ms/epoch - 6ms/step\n",
      "Epoch 68/100\n",
      "16/16 - 0s - loss: 235.8306 - val_loss: 216.5052 - 76ms/epoch - 5ms/step\n",
      "Epoch 69/100\n",
      "16/16 - 0s - loss: 234.3882 - val_loss: 215.0357 - 55ms/epoch - 3ms/step\n",
      "Epoch 70/100\n",
      "16/16 - 0s - loss: 232.9987 - val_loss: 215.1619 - 81ms/epoch - 5ms/step\n",
      "Epoch 71/100\n",
      "16/16 - 0s - loss: 231.7534 - val_loss: 213.9022 - 59ms/epoch - 4ms/step\n",
      "Epoch 72/100\n",
      "16/16 - 0s - loss: 230.7736 - val_loss: 213.0033 - 55ms/epoch - 3ms/step\n",
      "Epoch 73/100\n",
      "16/16 - 0s - loss: 229.3408 - val_loss: 212.2362 - 61ms/epoch - 4ms/step\n",
      "Epoch 74/100\n",
      "16/16 - 0s - loss: 228.6146 - val_loss: 212.4206 - 58ms/epoch - 4ms/step\n",
      "Epoch 75/100\n",
      "16/16 - 0s - loss: 227.4349 - val_loss: 209.9114 - 54ms/epoch - 3ms/step\n",
      "Epoch 76/100\n",
      "16/16 - 0s - loss: 225.6958 - val_loss: 210.9817 - 64ms/epoch - 4ms/step\n",
      "Epoch 77/100\n",
      "16/16 - 0s - loss: 225.4742 - val_loss: 209.1897 - 55ms/epoch - 3ms/step\n",
      "Epoch 78/100\n",
      "16/16 - 0s - loss: 226.1173 - val_loss: 207.4816 - 53ms/epoch - 3ms/step\n",
      "Epoch 79/100\n",
      "16/16 - 0s - loss: 224.2772 - val_loss: 206.7854 - 55ms/epoch - 3ms/step\n",
      "Epoch 80/100\n",
      "16/16 - 0s - loss: 221.9433 - val_loss: 205.7434 - 57ms/epoch - 4ms/step\n",
      "Epoch 81/100\n",
      "16/16 - 0s - loss: 220.3555 - val_loss: 206.7136 - 61ms/epoch - 4ms/step\n",
      "Epoch 82/100\n",
      "16/16 - 0s - loss: 220.2368 - val_loss: 204.8284 - 54ms/epoch - 3ms/step\n",
      "Epoch 83/100\n",
      "16/16 - 0s - loss: 219.2030 - val_loss: 203.3857 - 58ms/epoch - 4ms/step\n",
      "Epoch 84/100\n",
      "16/16 - 0s - loss: 217.1040 - val_loss: 203.4863 - 53ms/epoch - 3ms/step\n",
      "Epoch 85/100\n",
      "16/16 - 0s - loss: 216.3206 - val_loss: 200.8166 - 57ms/epoch - 4ms/step\n",
      "Epoch 86/100\n",
      "16/16 - 0s - loss: 215.5710 - val_loss: 202.6390 - 57ms/epoch - 4ms/step\n",
      "Epoch 87/100\n",
      "16/16 - 0s - loss: 214.2164 - val_loss: 198.9572 - 56ms/epoch - 4ms/step\n",
      "Epoch 88/100\n",
      "16/16 - 0s - loss: 213.1897 - val_loss: 198.7206 - 58ms/epoch - 4ms/step\n",
      "Epoch 89/100\n",
      "16/16 - 0s - loss: 211.6641 - val_loss: 197.2823 - 59ms/epoch - 4ms/step\n",
      "Epoch 90/100\n",
      "16/16 - 0s - loss: 210.4081 - val_loss: 196.7164 - 63ms/epoch - 4ms/step\n",
      "Epoch 91/100\n",
      "16/16 - 0s - loss: 210.6333 - val_loss: 195.5127 - 55ms/epoch - 3ms/step\n",
      "Epoch 92/100\n",
      "16/16 - 0s - loss: 209.0669 - val_loss: 194.7218 - 60ms/epoch - 4ms/step\n",
      "Epoch 93/100\n",
      "16/16 - 0s - loss: 207.5500 - val_loss: 193.9157 - 59ms/epoch - 4ms/step\n",
      "Epoch 94/100\n",
      "16/16 - 0s - loss: 206.1609 - val_loss: 193.9586 - 59ms/epoch - 4ms/step\n",
      "Epoch 95/100\n",
      "16/16 - 0s - loss: 204.4478 - val_loss: 190.8487 - 60ms/epoch - 4ms/step\n",
      "Epoch 96/100\n",
      "16/16 - 0s - loss: 203.8621 - val_loss: 190.4456 - 57ms/epoch - 4ms/step\n",
      "Epoch 97/100\n",
      "16/16 - 0s - loss: 202.1054 - val_loss: 190.4073 - 54ms/epoch - 3ms/step\n",
      "Epoch 98/100\n",
      "16/16 - 0s - loss: 201.7751 - val_loss: 189.6404 - 60ms/epoch - 4ms/step\n",
      "Epoch 99/100\n",
      "16/16 - 0s - loss: 200.2977 - val_loss: 187.8616 - 54ms/epoch - 3ms/step\n",
      "Epoch 100/100\n",
      "16/16 - 0s - loss: 199.6146 - val_loss: 186.9788 - 59ms/epoch - 4ms/step\n"
     ]
    },
    {
     "data": {
      "text/plain": [
       "<keras.callbacks.History at 0x7fbfd3a3f1f0>"
      ]
     },
     "execution_count": 24,
     "metadata": {},
     "output_type": "execute_result"
    }
   ],
   "source": [
    "# fit the model\n",
    "epochs = 100\n",
    "model.fit(X_train, y_train, validation_split=0.3, epochs=epochs, verbose=2)"
   ]
  },
  {
   "attachments": {},
   "cell_type": "markdown",
   "metadata": {},
   "source": [
    "3. Evaluate the model on the test data and compute the mean squared error between the predicted concrete strength and the actual concrete strength."
   ]
  },
  {
   "cell_type": "code",
   "execution_count": 25,
   "metadata": {},
   "outputs": [
    {
     "name": "stdout",
     "output_type": "stream",
     "text": [
      "10/10 [==============================] - 0s 2ms/step\n",
      "The mean squared error is 217.12771741640003\n"
     ]
    }
   ],
   "source": [
    "y_pred = model.predict(X_test)\n",
    "mse = mean_squared_error(y_test, y_pred)\n",
    "print(f\"The mean squared error is {mse}\")"
   ]
  },
  {
   "attachments": {},
   "cell_type": "markdown",
   "metadata": {},
   "source": [
    "4. Repeat steps 1 - 3, 50 times, i.e., create a list of 50 mean squared errors."
   ]
  },
  {
   "cell_type": "code",
   "execution_count": 26,
   "metadata": {},
   "outputs": [
    {
     "name": "stdout",
     "output_type": "stream",
     "text": [
      "Cicle N: 1\n",
      "10/10 [==============================] - 0s 2ms/step\n",
      "Cicle N: 2\n",
      "10/10 [==============================] - 0s 2ms/step\n",
      "Cicle N: 3\n",
      "10/10 [==============================] - 0s 2ms/step\n",
      "Cicle N: 4\n",
      "10/10 [==============================] - 0s 1ms/step\n",
      "Cicle N: 5\n",
      "10/10 [==============================] - 0s 2ms/step\n",
      "Cicle N: 6\n",
      "10/10 [==============================] - 0s 2ms/step\n",
      "Cicle N: 7\n",
      "10/10 [==============================] - 0s 2ms/step\n",
      "Cicle N: 8\n",
      "10/10 [==============================] - 0s 1ms/step\n",
      "Cicle N: 9\n",
      "10/10 [==============================] - 0s 7ms/step\n",
      "Cicle N: 10\n",
      "10/10 [==============================] - 0s 2ms/step\n",
      "Cicle N: 11\n",
      "10/10 [==============================] - 0s 2ms/step\n",
      "Cicle N: 12\n",
      "10/10 [==============================] - 0s 2ms/step\n",
      "Cicle N: 13\n",
      "10/10 [==============================] - 0s 2ms/step\n",
      "Cicle N: 14\n",
      "10/10 [==============================] - 0s 3ms/step\n",
      "Cicle N: 15\n",
      "10/10 [==============================] - 0s 2ms/step\n",
      "Cicle N: 16\n",
      "10/10 [==============================] - 0s 2ms/step\n",
      "Cicle N: 17\n",
      "10/10 [==============================] - 0s 2ms/step\n",
      "Cicle N: 18\n",
      "10/10 [==============================] - 0s 2ms/step\n",
      "Cicle N: 19\n",
      "10/10 [==============================] - 0s 2ms/step\n",
      "Cicle N: 20\n",
      "10/10 [==============================] - 0s 2ms/step\n",
      "Cicle N: 21\n",
      "10/10 [==============================] - 0s 2ms/step\n",
      "Cicle N: 22\n",
      "10/10 [==============================] - 0s 3ms/step\n",
      "Cicle N: 23\n",
      "10/10 [==============================] - 0s 2ms/step\n",
      "Cicle N: 24\n",
      "10/10 [==============================] - 0s 3ms/step\n",
      "Cicle N: 25\n",
      "10/10 [==============================] - 0s 2ms/step\n",
      "Cicle N: 26\n",
      "10/10 [==============================] - 0s 2ms/step\n",
      "Cicle N: 27\n",
      "10/10 [==============================] - 0s 2ms/step\n",
      "Cicle N: 28\n",
      "10/10 [==============================] - 0s 2ms/step\n",
      "Cicle N: 29\n",
      "10/10 [==============================] - 0s 2ms/step\n",
      "Cicle N: 30\n",
      "10/10 [==============================] - 0s 3ms/step\n",
      "Cicle N: 31\n",
      "10/10 [==============================] - 0s 3ms/step\n",
      "Cicle N: 32\n",
      "10/10 [==============================] - 0s 3ms/step\n",
      "Cicle N: 33\n",
      "10/10 [==============================] - 0s 2ms/step\n",
      "Cicle N: 34\n",
      "10/10 [==============================] - 0s 2ms/step\n",
      "Cicle N: 35\n",
      "10/10 [==============================] - 0s 2ms/step\n",
      "Cicle N: 36\n",
      "10/10 [==============================] - 0s 2ms/step\n",
      "Cicle N: 37\n",
      "10/10 [==============================] - 0s 2ms/step\n",
      "Cicle N: 38\n",
      "10/10 [==============================] - 0s 2ms/step\n",
      "Cicle N: 39\n",
      "10/10 [==============================] - 0s 2ms/step\n",
      "Cicle N: 40\n",
      "10/10 [==============================] - 0s 2ms/step\n",
      "Cicle N: 41\n",
      "10/10 [==============================] - 0s 3ms/step\n",
      "Cicle N: 42\n",
      "10/10 [==============================] - 0s 2ms/step\n",
      "Cicle N: 43\n",
      "10/10 [==============================] - 0s 2ms/step\n",
      "Cicle N: 44\n",
      "10/10 [==============================] - 0s 2ms/step\n",
      "Cicle N: 45\n",
      "10/10 [==============================] - 0s 1ms/step\n",
      "Cicle N: 46\n",
      "10/10 [==============================] - 0s 2ms/step\n",
      "Cicle N: 47\n",
      "10/10 [==============================] - 0s 2ms/step\n",
      "Cicle N: 48\n",
      "10/10 [==============================] - 0s 1ms/step\n",
      "Cicle N: 49\n",
      "10/10 [==============================] - 0s 2ms/step\n",
      "Cicle N: 50\n",
      "10/10 [==============================] - 0s 2ms/step\n"
     ]
    }
   ],
   "source": [
    "epochs = 100\n",
    "mse_list = []\n",
    "for j in range(50):\n",
    "    print(f\"Cicle N: {j+1}\")\n",
    "    X_train, X_test, y_train, y_test = train_test_split(predictors, target, test_size=0.3, random_state=42)\n",
    "    model.fit(X_train, y_train, epochs=epochs, verbose=0)\n",
    "    y_pred = model.predict(X_test)\n",
    "    mse = mean_squared_error(y_test, y_pred)\n",
    "    mse_list.append(mse)"
   ]
  },
  {
   "attachments": {},
   "cell_type": "markdown",
   "metadata": {},
   "source": [
    "5. Report the mean and the standard deviation of the mean squared errors."
   ]
  },
  {
   "cell_type": "code",
   "execution_count": 27,
   "metadata": {},
   "outputs": [
    {
     "name": "stdout",
     "output_type": "stream",
     "text": [
      "Mean of MSE is: 54.19278480180645\n",
      "STD of MSE is: 16.5673228506699\n"
     ]
    }
   ],
   "source": [
    "mse_mean = np.mean(mse_list)\n",
    "mse_std = np.std(mse_list)\n",
    "print(f\"Mean of MSE is: {mse_mean}\")\n",
    "print(f\"STD of MSE is: {mse_std}\")"
   ]
  },
  {
   "cell_type": "code",
   "execution_count": 28,
   "metadata": {},
   "outputs": [
    {
     "data": {
      "image/png": "[encoded data removed]",
      "text/plain": [
       "<Figure size 640x480 with 1 Axes>"
      ]
     },
     "metadata": {},
     "output_type": "display_data"
    }
   ],
   "source": [
    "plt.plot(mse_list)\n",
    "plt.xlabel('Iteration')\n",
    "plt.ylabel('Mean Squared Error')\n",
    "plt.title('Mean Squared Error per Iteration')\n",
    "plt.show()"
   ]
  },
  {
   "attachments": {},
   "cell_type": "markdown",
   "metadata": {},
   "source": [
    "How does the mean of the mean squared errors compare to that from Step B?"
   ]
  },
  {
   "attachments": {},
   "cell_type": "markdown",
   "metadata": {},
   "source": [
    "In previous implementation (B) the next were the results:\n",
    "- Mean of MSE is: 67.33\n",
    "- STD of MSE is: 34.66\n",
    "\n",
    "But now the results are:\n",
    "- Mean of MSE is: 54.19\n",
    "- STD of MSE is: 16.56\n",
    "\n",
    "So, Mean of MSE decreases using a normalization data and more epochs.\n",
    "\n",
    "STD decreases arround of the 50%.\n"
   ]
  },
  {
   "attachments": {},
   "cell_type": "markdown",
   "metadata": {},
   "source": [
    "### Thank you for check my activity!\n",
    "\n",
    "This notebook was created by [Daniel Sanchez](www.linkedin.com/in/cesar-daniel-sanchez)."
   ]
  }
 ],
 "metadata": {
  "kernelspec": {
   "display_name": ".venv",
   "language": "python",
   "name": "python3"
  },
  "language_info": {
   "codemirror_mode": {
    "name": "ipython",
    "version": 3
   },
   "file_extension": ".py",
   "mimetype": "text/x-python",
   "name": "python",
   "nbconvert_exporter": "python",
   "pygments_lexer": "ipython3",
   "version": "3.10.6"
  },
  "orig_nbformat": 4,
  "vscode": {
   "interpreter": {
    "hash": "8c0bac39d1249b3d7958968ac2417c935a0a7a62715a037dee11bd5602042545"
   }
  }
 },
 "nbformat": 4,
 "nbformat_minor": 2
}
