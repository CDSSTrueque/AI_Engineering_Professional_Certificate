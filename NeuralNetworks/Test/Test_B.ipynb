{
 "cells": [
  {
   "attachments": {},
   "cell_type": "markdown",
   "metadata": {},
   "source": [
    "### Import libraries"
   ]
  },
  {
   "cell_type": "code",
   "execution_count": 11,
   "metadata": {},
   "outputs": [],
   "source": [
    "import numpy as np\n",
    "import pandas as pd\n",
    "from sklearn.model_selection import train_test_split\n",
    "from sklearn.metrics import mean_squared_error\n",
    "from keras.models import Sequential\n",
    "from keras.layers import Dense\n",
    "import matplotlib.pyplot as plt"
   ]
  },
  {
   "attachments": {},
   "cell_type": "markdown",
   "metadata": {},
   "source": [
    "*Import data*\n"
   ]
  },
  {
   "cell_type": "code",
   "execution_count": 12,
   "metadata": {},
   "outputs": [
    {
     "data": {
      "text/html": [
       "<div>\n",
       "<style scoped>\n",
       "    .dataframe tbody tr th:only-of-type {\n",
       "        vertical-align: middle;\n",
       "    }\n",
       "\n",
       "    .dataframe tbody tr th {\n",
       "        vertical-align: top;\n",
       "    }\n",
       "\n",
       "    .dataframe thead th {\n",
       "        text-align: right;\n",
       "    }\n",
       "</style>\n",
       "<table border=\"1\" class=\"dataframe\">\n",
       "  <thead>\n",
       "    <tr style=\"text-align: right;\">\n",
       "      <th></th>\n",
       "      <th>Cement</th>\n",
       "      <th>Blast Furnace Slag</th>\n",
       "      <th>Fly Ash</th>\n",
       "      <th>Water</th>\n",
       "      <th>Superplasticizer</th>\n",
       "      <th>Coarse Aggregate</th>\n",
       "      <th>Fine Aggregate</th>\n",
       "      <th>Age</th>\n",
       "      <th>Strength</th>\n",
       "    </tr>\n",
       "  </thead>\n",
       "  <tbody>\n",
       "    <tr>\n",
       "      <th>0</th>\n",
       "      <td>540.0</td>\n",
       "      <td>0.0</td>\n",
       "      <td>0.0</td>\n",
       "      <td>162.0</td>\n",
       "      <td>2.5</td>\n",
       "      <td>1040.0</td>\n",
       "      <td>676.0</td>\n",
       "      <td>28</td>\n",
       "      <td>79.99</td>\n",
       "    </tr>\n",
       "    <tr>\n",
       "      <th>1</th>\n",
       "      <td>540.0</td>\n",
       "      <td>0.0</td>\n",
       "      <td>0.0</td>\n",
       "      <td>162.0</td>\n",
       "      <td>2.5</td>\n",
       "      <td>1055.0</td>\n",
       "      <td>676.0</td>\n",
       "      <td>28</td>\n",
       "      <td>61.89</td>\n",
       "    </tr>\n",
       "    <tr>\n",
       "      <th>2</th>\n",
       "      <td>332.5</td>\n",
       "      <td>142.5</td>\n",
       "      <td>0.0</td>\n",
       "      <td>228.0</td>\n",
       "      <td>0.0</td>\n",
       "      <td>932.0</td>\n",
       "      <td>594.0</td>\n",
       "      <td>270</td>\n",
       "      <td>40.27</td>\n",
       "    </tr>\n",
       "    <tr>\n",
       "      <th>3</th>\n",
       "      <td>332.5</td>\n",
       "      <td>142.5</td>\n",
       "      <td>0.0</td>\n",
       "      <td>228.0</td>\n",
       "      <td>0.0</td>\n",
       "      <td>932.0</td>\n",
       "      <td>594.0</td>\n",
       "      <td>365</td>\n",
       "      <td>41.05</td>\n",
       "    </tr>\n",
       "    <tr>\n",
       "      <th>4</th>\n",
       "      <td>198.6</td>\n",
       "      <td>132.4</td>\n",
       "      <td>0.0</td>\n",
       "      <td>192.0</td>\n",
       "      <td>0.0</td>\n",
       "      <td>978.4</td>\n",
       "      <td>825.5</td>\n",
       "      <td>360</td>\n",
       "      <td>44.30</td>\n",
       "    </tr>\n",
       "  </tbody>\n",
       "</table>\n",
       "</div>"
      ],
      "text/plain": [
       "   Cement  Blast Furnace Slag  Fly Ash  Water  Superplasticizer   \n",
       "0   540.0                 0.0      0.0  162.0               2.5  \\\n",
       "1   540.0                 0.0      0.0  162.0               2.5   \n",
       "2   332.5               142.5      0.0  228.0               0.0   \n",
       "3   332.5               142.5      0.0  228.0               0.0   \n",
       "4   198.6               132.4      0.0  192.0               0.0   \n",
       "\n",
       "   Coarse Aggregate  Fine Aggregate  Age  Strength  \n",
       "0            1040.0           676.0   28     79.99  \n",
       "1            1055.0           676.0   28     61.89  \n",
       "2             932.0           594.0  270     40.27  \n",
       "3             932.0           594.0  365     41.05  \n",
       "4             978.4           825.5  360     44.30  "
      ]
     },
     "execution_count": 12,
     "metadata": {},
     "output_type": "execute_result"
    }
   ],
   "source": [
    "concrete_data = pd.read_csv('concrete_data.csv')\n",
    "concrete_data.head()"
   ]
  },
  {
   "attachments": {},
   "cell_type": "markdown",
   "metadata": {},
   "source": [
    "Clear data"
   ]
  },
  {
   "cell_type": "code",
   "execution_count": 13,
   "metadata": {},
   "outputs": [
    {
     "data": {
      "text/plain": [
       "Cement                0\n",
       "Blast Furnace Slag    0\n",
       "Fly Ash               0\n",
       "Water                 0\n",
       "Superplasticizer      0\n",
       "Coarse Aggregate      0\n",
       "Fine Aggregate        0\n",
       "Age                   0\n",
       "Strength              0\n",
       "dtype: int64"
      ]
     },
     "execution_count": 13,
     "metadata": {},
     "output_type": "execute_result"
    }
   ],
   "source": [
    "concrete_data.isnull().sum()"
   ]
  },
  {
   "attachments": {},
   "cell_type": "markdown",
   "metadata": {},
   "source": [
    "#### Split data into predictors (X) and target (y)"
   ]
  },
  {
   "cell_type": "code",
   "execution_count": 14,
   "metadata": {},
   "outputs": [],
   "source": [
    "concrete_data_columns = concrete_data.columns\n",
    "predictors = concrete_data[concrete_data_columns[concrete_data_columns != 'Strength']] # all columns except Strength\n",
    "target = concrete_data['Strength'] # Strength column"
   ]
  },
  {
   "cell_type": "code",
   "execution_count": 15,
   "metadata": {},
   "outputs": [
    {
     "data": {
      "text/html": [
       "<div>\n",
       "<style scoped>\n",
       "    .dataframe tbody tr th:only-of-type {\n",
       "        vertical-align: middle;\n",
       "    }\n",
       "\n",
       "    .dataframe tbody tr th {\n",
       "        vertical-align: top;\n",
       "    }\n",
       "\n",
       "    .dataframe thead th {\n",
       "        text-align: right;\n",
       "    }\n",
       "</style>\n",
       "<table border=\"1\" class=\"dataframe\">\n",
       "  <thead>\n",
       "    <tr style=\"text-align: right;\">\n",
       "      <th></th>\n",
       "      <th>Cement</th>\n",
       "      <th>Blast Furnace Slag</th>\n",
       "      <th>Fly Ash</th>\n",
       "      <th>Water</th>\n",
       "      <th>Superplasticizer</th>\n",
       "      <th>Coarse Aggregate</th>\n",
       "      <th>Fine Aggregate</th>\n",
       "      <th>Age</th>\n",
       "    </tr>\n",
       "  </thead>\n",
       "  <tbody>\n",
       "    <tr>\n",
       "      <th>0</th>\n",
       "      <td>540.0</td>\n",
       "      <td>0.0</td>\n",
       "      <td>0.0</td>\n",
       "      <td>162.0</td>\n",
       "      <td>2.5</td>\n",
       "      <td>1040.0</td>\n",
       "      <td>676.0</td>\n",
       "      <td>28</td>\n",
       "    </tr>\n",
       "    <tr>\n",
       "      <th>1</th>\n",
       "      <td>540.0</td>\n",
       "      <td>0.0</td>\n",
       "      <td>0.0</td>\n",
       "      <td>162.0</td>\n",
       "      <td>2.5</td>\n",
       "      <td>1055.0</td>\n",
       "      <td>676.0</td>\n",
       "      <td>28</td>\n",
       "    </tr>\n",
       "    <tr>\n",
       "      <th>2</th>\n",
       "      <td>332.5</td>\n",
       "      <td>142.5</td>\n",
       "      <td>0.0</td>\n",
       "      <td>228.0</td>\n",
       "      <td>0.0</td>\n",
       "      <td>932.0</td>\n",
       "      <td>594.0</td>\n",
       "      <td>270</td>\n",
       "    </tr>\n",
       "    <tr>\n",
       "      <th>3</th>\n",
       "      <td>332.5</td>\n",
       "      <td>142.5</td>\n",
       "      <td>0.0</td>\n",
       "      <td>228.0</td>\n",
       "      <td>0.0</td>\n",
       "      <td>932.0</td>\n",
       "      <td>594.0</td>\n",
       "      <td>365</td>\n",
       "    </tr>\n",
       "    <tr>\n",
       "      <th>4</th>\n",
       "      <td>198.6</td>\n",
       "      <td>132.4</td>\n",
       "      <td>0.0</td>\n",
       "      <td>192.0</td>\n",
       "      <td>0.0</td>\n",
       "      <td>978.4</td>\n",
       "      <td>825.5</td>\n",
       "      <td>360</td>\n",
       "    </tr>\n",
       "  </tbody>\n",
       "</table>\n",
       "</div>"
      ],
      "text/plain": [
       "   Cement  Blast Furnace Slag  Fly Ash  Water  Superplasticizer   \n",
       "0   540.0                 0.0      0.0  162.0               2.5  \\\n",
       "1   540.0                 0.0      0.0  162.0               2.5   \n",
       "2   332.5               142.5      0.0  228.0               0.0   \n",
       "3   332.5               142.5      0.0  228.0               0.0   \n",
       "4   198.6               132.4      0.0  192.0               0.0   \n",
       "\n",
       "   Coarse Aggregate  Fine Aggregate  Age  \n",
       "0            1040.0           676.0   28  \n",
       "1            1055.0           676.0   28  \n",
       "2             932.0           594.0  270  \n",
       "3             932.0           594.0  365  \n",
       "4             978.4           825.5  360  "
      ]
     },
     "execution_count": 15,
     "metadata": {},
     "output_type": "execute_result"
    }
   ],
   "source": [
    "predictors.head()"
   ]
  },
  {
   "cell_type": "code",
   "execution_count": 16,
   "metadata": {},
   "outputs": [
    {
     "data": {
      "text/plain": [
       "0    79.99\n",
       "1    61.89\n",
       "2    40.27\n",
       "3    41.05\n",
       "4    44.30\n",
       "Name: Strength, dtype: float64"
      ]
     },
     "execution_count": 16,
     "metadata": {},
     "output_type": "execute_result"
    }
   ],
   "source": [
    "target.head()"
   ]
  },
  {
   "attachments": {},
   "cell_type": "markdown",
   "metadata": {},
   "source": [
    "#### Data normalization"
   ]
  },
  {
   "cell_type": "code",
   "execution_count": 17,
   "metadata": {},
   "outputs": [
    {
     "data": {
      "text/html": [
       "<div>\n",
       "<style scoped>\n",
       "    .dataframe tbody tr th:only-of-type {\n",
       "        vertical-align: middle;\n",
       "    }\n",
       "\n",
       "    .dataframe tbody tr th {\n",
       "        vertical-align: top;\n",
       "    }\n",
       "\n",
       "    .dataframe thead th {\n",
       "        text-align: right;\n",
       "    }\n",
       "</style>\n",
       "<table border=\"1\" class=\"dataframe\">\n",
       "  <thead>\n",
       "    <tr style=\"text-align: right;\">\n",
       "      <th></th>\n",
       "      <th>Cement</th>\n",
       "      <th>Blast Furnace Slag</th>\n",
       "      <th>Fly Ash</th>\n",
       "      <th>Water</th>\n",
       "      <th>Superplasticizer</th>\n",
       "      <th>Coarse Aggregate</th>\n",
       "      <th>Fine Aggregate</th>\n",
       "      <th>Age</th>\n",
       "    </tr>\n",
       "  </thead>\n",
       "  <tbody>\n",
       "    <tr>\n",
       "      <th>0</th>\n",
       "      <td>2.476712</td>\n",
       "      <td>-0.856472</td>\n",
       "      <td>-0.846733</td>\n",
       "      <td>-0.916319</td>\n",
       "      <td>-0.620147</td>\n",
       "      <td>0.862735</td>\n",
       "      <td>-1.217079</td>\n",
       "      <td>-0.279597</td>\n",
       "    </tr>\n",
       "    <tr>\n",
       "      <th>1</th>\n",
       "      <td>2.476712</td>\n",
       "      <td>-0.856472</td>\n",
       "      <td>-0.846733</td>\n",
       "      <td>-0.916319</td>\n",
       "      <td>-0.620147</td>\n",
       "      <td>1.055651</td>\n",
       "      <td>-1.217079</td>\n",
       "      <td>-0.279597</td>\n",
       "    </tr>\n",
       "    <tr>\n",
       "      <th>2</th>\n",
       "      <td>0.491187</td>\n",
       "      <td>0.795140</td>\n",
       "      <td>-0.846733</td>\n",
       "      <td>2.174405</td>\n",
       "      <td>-1.038638</td>\n",
       "      <td>-0.526262</td>\n",
       "      <td>-2.239829</td>\n",
       "      <td>3.551340</td>\n",
       "    </tr>\n",
       "    <tr>\n",
       "      <th>3</th>\n",
       "      <td>0.491187</td>\n",
       "      <td>0.795140</td>\n",
       "      <td>-0.846733</td>\n",
       "      <td>2.174405</td>\n",
       "      <td>-1.038638</td>\n",
       "      <td>-0.526262</td>\n",
       "      <td>-2.239829</td>\n",
       "      <td>5.055221</td>\n",
       "    </tr>\n",
       "    <tr>\n",
       "      <th>4</th>\n",
       "      <td>-0.790075</td>\n",
       "      <td>0.678079</td>\n",
       "      <td>-0.846733</td>\n",
       "      <td>0.488555</td>\n",
       "      <td>-1.038638</td>\n",
       "      <td>0.070492</td>\n",
       "      <td>0.647569</td>\n",
       "      <td>4.976069</td>\n",
       "    </tr>\n",
       "  </tbody>\n",
       "</table>\n",
       "</div>"
      ],
      "text/plain": [
       "     Cement  Blast Furnace Slag   Fly Ash     Water  Superplasticizer   \n",
       "0  2.476712           -0.856472 -0.846733 -0.916319         -0.620147  \\\n",
       "1  2.476712           -0.856472 -0.846733 -0.916319         -0.620147   \n",
       "2  0.491187            0.795140 -0.846733  2.174405         -1.038638   \n",
       "3  0.491187            0.795140 -0.846733  2.174405         -1.038638   \n",
       "4 -0.790075            0.678079 -0.846733  0.488555         -1.038638   \n",
       "\n",
       "   Coarse Aggregate  Fine Aggregate       Age  \n",
       "0          0.862735       -1.217079 -0.279597  \n",
       "1          1.055651       -1.217079 -0.279597  \n",
       "2         -0.526262       -2.239829  3.551340  \n",
       "3         -0.526262       -2.239829  5.055221  \n",
       "4          0.070492        0.647569  4.976069  "
      ]
     },
     "execution_count": 17,
     "metadata": {},
     "output_type": "execute_result"
    }
   ],
   "source": [
    "predictors_norm = (predictors - predictors.mean()) / predictors.std()\n",
    "predictors_norm.head()"
   ]
  },
  {
   "cell_type": "markdown",
   "metadata": {},
   "source": [
    "### Build a Neural Network"
   ]
  },
  {
   "cell_type": "code",
   "execution_count": 18,
   "metadata": {},
   "outputs": [],
   "source": [
    "# define regression model\n",
    "''' This function create a model were all hidden layers have the same configuration'''\n",
    "def regression_model(layers, neurons, n_cols, activation, optimizer, loss):\n",
    "    # create model\n",
    "    model = Sequential()\n",
    "    for i in range(layers):\n",
    "        model.add(Dense(neurons, activation=activation, input_shape=(n_cols,)))\n",
    "    model.add(Dense(1))\n",
    "    print(f\"Layers created: {i+1}\")\n",
    "    # compile model\n",
    "    model.compile(optimizer=optimizer, loss=loss)\n",
    "    return model"
   ]
  },
  {
   "cell_type": "markdown",
   "metadata": {},
   "source": []
  },
  {
   "cell_type": "code",
   "execution_count": 19,
   "metadata": {},
   "outputs": [
    {
     "name": "stdout",
     "output_type": "stream",
     "text": [
      "Layers created: 1\n"
     ]
    },
    {
     "data": {
      "text/plain": [
       "<keras.engine.sequential.Sequential at 0x7fc1de7265c0>"
      ]
     },
     "execution_count": 19,
     "metadata": {},
     "output_type": "execute_result"
    }
   ],
   "source": [
    "# build the model\n",
    "n_cols = predictors_norm.shape[1] # number of predictors\n",
    "layers = 1\n",
    "neurons = 10\n",
    "model = regression_model(\n",
    "    layers = layers,\n",
    "    neurons = neurons,\n",
    "    n_cols = n_cols,\n",
    "    activation = \"relu\",\n",
    "    optimizer = \"adam\",\n",
    "    loss = \"mean_squared_error\",\n",
    ")\n",
    "model"
   ]
  },
  {
   "cell_type": "markdown",
   "metadata": {},
   "source": [
    "1. Randomly split the data into a training and test sets by holding 30% of the data for testing. "
   ]
  },
  {
   "cell_type": "code",
   "execution_count": 20,
   "metadata": {},
   "outputs": [],
   "source": [
    "X_train, X_test, y_train, y_test = train_test_split(predictors, target, test_size=0.3, random_state=42)"
   ]
  },
  {
   "attachments": {},
   "cell_type": "markdown",
   "metadata": {},
   "source": [
    "2. Train the model on the training data using 50 epochs"
   ]
  },
  {
   "cell_type": "code",
   "execution_count": 21,
   "metadata": {},
   "outputs": [
    {
     "name": "stdout",
     "output_type": "stream",
     "text": [
      "Epoch 1/50\n",
      "16/16 - 1s - loss: 229026.8281 - val_loss: 185316.9844 - 937ms/epoch - 59ms/step\n",
      "Epoch 2/50\n",
      "16/16 - 0s - loss: 161727.7344 - val_loss: 132196.2812 - 64ms/epoch - 4ms/step\n",
      "Epoch 3/50\n",
      "16/16 - 0s - loss: 117662.1641 - val_loss: 97457.8828 - 81ms/epoch - 5ms/step\n",
      "Epoch 4/50\n",
      "16/16 - 0s - loss: 87987.9062 - val_loss: 73874.4688 - 56ms/epoch - 4ms/step\n",
      "Epoch 5/50\n",
      "16/16 - 0s - loss: 67231.3047 - val_loss: 56696.6914 - 62ms/epoch - 4ms/step\n",
      "Epoch 6/50\n",
      "16/16 - 0s - loss: 51896.2734 - val_loss: 43942.0664 - 65ms/epoch - 4ms/step\n",
      "Epoch 7/50\n",
      "16/16 - 0s - loss: 40451.3867 - val_loss: 34273.2422 - 76ms/epoch - 5ms/step\n",
      "Epoch 8/50\n",
      "16/16 - 0s - loss: 31701.6211 - val_loss: 26921.8555 - 63ms/epoch - 4ms/step\n",
      "Epoch 9/50\n",
      "16/16 - 0s - loss: 25032.2969 - val_loss: 21190.8848 - 60ms/epoch - 4ms/step\n",
      "Epoch 10/50\n",
      "16/16 - 0s - loss: 19815.9473 - val_loss: 16744.8828 - 69ms/epoch - 4ms/step\n",
      "Epoch 11/50\n",
      "16/16 - 0s - loss: 15744.5654 - val_loss: 13265.2324 - 55ms/epoch - 3ms/step\n",
      "Epoch 12/50\n",
      "16/16 - 0s - loss: 12571.3135 - val_loss: 10534.2559 - 61ms/epoch - 4ms/step\n",
      "Epoch 13/50\n",
      "16/16 - 0s - loss: 10073.0078 - val_loss: 8401.6523 - 56ms/epoch - 4ms/step\n",
      "Epoch 14/50\n",
      "16/16 - 0s - loss: 8099.8608 - val_loss: 6745.0127 - 55ms/epoch - 3ms/step\n",
      "Epoch 15/50\n",
      "16/16 - 0s - loss: 6580.4365 - val_loss: 5432.1401 - 64ms/epoch - 4ms/step\n",
      "Epoch 16/50\n",
      "16/16 - 0s - loss: 5373.4121 - val_loss: 4414.5220 - 59ms/epoch - 4ms/step\n",
      "Epoch 17/50\n",
      "16/16 - 0s - loss: 4412.9941 - val_loss: 3635.7048 - 68ms/epoch - 4ms/step\n",
      "Epoch 18/50\n",
      "16/16 - 0s - loss: 3681.0022 - val_loss: 3013.9395 - 66ms/epoch - 4ms/step\n",
      "Epoch 19/50\n",
      "16/16 - 0s - loss: 3091.6799 - val_loss: 2537.1528 - 57ms/epoch - 4ms/step\n",
      "Epoch 20/50\n",
      "16/16 - 0s - loss: 2633.7610 - val_loss: 2174.2727 - 55ms/epoch - 3ms/step\n",
      "Epoch 21/50\n",
      "16/16 - 0s - loss: 2287.9946 - val_loss: 1887.4955 - 57ms/epoch - 4ms/step\n",
      "Epoch 22/50\n",
      "16/16 - 0s - loss: 2009.8779 - val_loss: 1676.1019 - 57ms/epoch - 4ms/step\n",
      "Epoch 23/50\n",
      "16/16 - 0s - loss: 1802.8411 - val_loss: 1512.2991 - 58ms/epoch - 4ms/step\n",
      "Epoch 24/50\n",
      "16/16 - 0s - loss: 1639.6848 - val_loss: 1390.5555 - 63ms/epoch - 4ms/step\n",
      "Epoch 25/50\n",
      "16/16 - 0s - loss: 1514.4451 - val_loss: 1300.2919 - 59ms/epoch - 4ms/step\n",
      "Epoch 26/50\n",
      "16/16 - 0s - loss: 1420.3521 - val_loss: 1229.4879 - 59ms/epoch - 4ms/step\n",
      "Epoch 27/50\n",
      "16/16 - 0s - loss: 1345.7882 - val_loss: 1176.2413 - 65ms/epoch - 4ms/step\n",
      "Epoch 28/50\n",
      "16/16 - 0s - loss: 1287.6979 - val_loss: 1135.3209 - 69ms/epoch - 4ms/step\n",
      "Epoch 29/50\n",
      "16/16 - 0s - loss: 1240.3524 - val_loss: 1104.0802 - 77ms/epoch - 5ms/step\n",
      "Epoch 30/50\n",
      "16/16 - 0s - loss: 1205.1293 - val_loss: 1077.1365 - 69ms/epoch - 4ms/step\n",
      "Epoch 31/50\n",
      "16/16 - 0s - loss: 1172.1462 - val_loss: 1056.0784 - 63ms/epoch - 4ms/step\n",
      "Epoch 32/50\n",
      "16/16 - 0s - loss: 1147.1647 - val_loss: 1036.5162 - 75ms/epoch - 5ms/step\n",
      "Epoch 33/50\n",
      "16/16 - 0s - loss: 1124.2104 - val_loss: 1018.8342 - 58ms/epoch - 4ms/step\n",
      "Epoch 34/50\n",
      "16/16 - 0s - loss: 1102.2087 - val_loss: 1002.9096 - 58ms/epoch - 4ms/step\n",
      "Epoch 35/50\n",
      "16/16 - 0s - loss: 1083.0214 - val_loss: 986.9987 - 60ms/epoch - 4ms/step\n",
      "Epoch 36/50\n",
      "16/16 - 0s - loss: 1064.2628 - val_loss: 971.5012 - 56ms/epoch - 3ms/step\n",
      "Epoch 37/50\n",
      "16/16 - 0s - loss: 1045.8992 - val_loss: 955.9556 - 62ms/epoch - 4ms/step\n",
      "Epoch 38/50\n",
      "16/16 - 0s - loss: 1028.2567 - val_loss: 940.6509 - 59ms/epoch - 4ms/step\n",
      "Epoch 39/50\n",
      "16/16 - 0s - loss: 1011.0267 - val_loss: 925.3428 - 56ms/epoch - 3ms/step\n",
      "Epoch 40/50\n",
      "16/16 - 0s - loss: 994.4954 - val_loss: 909.5433 - 55ms/epoch - 3ms/step\n",
      "Epoch 41/50\n",
      "16/16 - 0s - loss: 978.6921 - val_loss: 893.9807 - 57ms/epoch - 4ms/step\n",
      "Epoch 42/50\n",
      "16/16 - 0s - loss: 961.2999 - val_loss: 878.8235 - 65ms/epoch - 4ms/step\n",
      "Epoch 43/50\n",
      "16/16 - 0s - loss: 945.4680 - val_loss: 863.2908 - 64ms/epoch - 4ms/step\n",
      "Epoch 44/50\n",
      "16/16 - 0s - loss: 929.5835 - val_loss: 847.2575 - 58ms/epoch - 4ms/step\n",
      "Epoch 45/50\n",
      "16/16 - 0s - loss: 913.5305 - val_loss: 832.1968 - 57ms/epoch - 4ms/step\n",
      "Epoch 46/50\n",
      "16/16 - 0s - loss: 897.8376 - val_loss: 816.6711 - 57ms/epoch - 4ms/step\n",
      "Epoch 47/50\n",
      "16/16 - 0s - loss: 882.6501 - val_loss: 802.1252 - 58ms/epoch - 4ms/step\n",
      "Epoch 48/50\n",
      "16/16 - 0s - loss: 866.5864 - val_loss: 786.6414 - 58ms/epoch - 4ms/step\n",
      "Epoch 49/50\n",
      "16/16 - 0s - loss: 851.4190 - val_loss: 771.4449 - 56ms/epoch - 4ms/step\n",
      "Epoch 50/50\n",
      "16/16 - 0s - loss: 836.0461 - val_loss: 757.6013 - 70ms/epoch - 4ms/step\n"
     ]
    },
    {
     "data": {
      "text/plain": [
       "<keras.callbacks.History at 0x7fc1deae0e80>"
      ]
     },
     "execution_count": 21,
     "metadata": {},
     "output_type": "execute_result"
    }
   ],
   "source": [
    "# fit the model\n",
    "epochs = 50\n",
    "model.fit(X_train, y_train, validation_split=0.3, epochs=epochs, verbose=2)"
   ]
  },
  {
   "attachments": {},
   "cell_type": "markdown",
   "metadata": {},
   "source": [
    "3. Evaluate the model on the test data and compute the mean squared error between the predicted concrete strength and the actual concrete strength."
   ]
  },
  {
   "cell_type": "code",
   "execution_count": 22,
   "metadata": {},
   "outputs": [
    {
     "name": "stdout",
     "output_type": "stream",
     "text": [
      "10/10 [==============================] - 0s 1ms/step\n",
      "The mean squared error is 774.9768693608601\n"
     ]
    }
   ],
   "source": [
    "y_pred = model.predict(X_test)\n",
    "mse = mean_squared_error(y_test, y_pred)\n",
    "print(f\"The mean squared error is {mse}\")"
   ]
  },
  {
   "attachments": {},
   "cell_type": "markdown",
   "metadata": {},
   "source": [
    "4. Repeat steps 1 - 3, 50 times, i.e., create a list of 50 mean squared errors."
   ]
  },
  {
   "cell_type": "code",
   "execution_count": 23,
   "metadata": {},
   "outputs": [
    {
     "name": "stdout",
     "output_type": "stream",
     "text": [
      "Cicle N: 1\n",
      "10/10 [==============================] - 0s 2ms/step\n",
      "Cicle N: 2\n",
      "10/10 [==============================] - 0s 2ms/step\n",
      "Cicle N: 3\n",
      "10/10 [==============================] - 0s 2ms/step\n",
      "Cicle N: 4\n",
      "10/10 [==============================] - 0s 2ms/step\n",
      "Cicle N: 5\n",
      "10/10 [==============================] - 0s 2ms/step\n",
      "Cicle N: 6\n",
      "10/10 [==============================] - 0s 2ms/step\n",
      "Cicle N: 7\n",
      "10/10 [==============================] - 0s 1ms/step\n",
      "Cicle N: 8\n",
      "10/10 [==============================] - 0s 1ms/step\n",
      "Cicle N: 9\n",
      "10/10 [==============================] - 0s 1ms/step\n",
      "Cicle N: 10\n",
      "10/10 [==============================] - 0s 2ms/step\n",
      "Cicle N: 11\n",
      "10/10 [==============================] - 0s 2ms/step\n",
      "Cicle N: 12\n",
      "10/10 [==============================] - 0s 2ms/step\n",
      "Cicle N: 13\n",
      "10/10 [==============================] - 0s 2ms/step\n",
      "Cicle N: 14\n",
      "10/10 [==============================] - 0s 2ms/step\n",
      "Cicle N: 15\n",
      "10/10 [==============================] - 0s 3ms/step\n",
      "Cicle N: 16\n",
      "10/10 [==============================] - 0s 2ms/step\n",
      "Cicle N: 17\n",
      "10/10 [==============================] - 0s 1ms/step\n",
      "Cicle N: 18\n",
      "10/10 [==============================] - 0s 2ms/step\n",
      "Cicle N: 19\n",
      "10/10 [==============================] - 0s 2ms/step\n",
      "Cicle N: 20\n",
      "10/10 [==============================] - 0s 2ms/step\n",
      "Cicle N: 21\n",
      "10/10 [==============================] - 0s 2ms/step\n",
      "Cicle N: 22\n",
      "10/10 [==============================] - 0s 2ms/step\n",
      "Cicle N: 23\n",
      "10/10 [==============================] - 0s 2ms/step\n",
      "Cicle N: 24\n",
      "10/10 [==============================] - 0s 1ms/step\n",
      "Cicle N: 25\n",
      "10/10 [==============================] - 0s 2ms/step\n",
      "Cicle N: 26\n",
      "10/10 [==============================] - 0s 2ms/step\n",
      "Cicle N: 27\n",
      "10/10 [==============================] - 0s 1ms/step\n",
      "Cicle N: 28\n",
      "10/10 [==============================] - 0s 1ms/step\n",
      "Cicle N: 29\n",
      "10/10 [==============================] - 0s 1ms/step\n",
      "Cicle N: 30\n",
      "10/10 [==============================] - 0s 1ms/step\n",
      "Cicle N: 31\n",
      "10/10 [==============================] - 0s 1ms/step\n",
      "Cicle N: 32\n",
      "10/10 [==============================] - 0s 1ms/step\n",
      "Cicle N: 33\n",
      "10/10 [==============================] - 0s 1ms/step\n",
      "Cicle N: 34\n",
      "10/10 [==============================] - 0s 2ms/step\n",
      "Cicle N: 35\n",
      "10/10 [==============================] - 0s 1ms/step\n",
      "Cicle N: 36\n",
      "10/10 [==============================] - 0s 2ms/step\n",
      "Cicle N: 37\n",
      "10/10 [==============================] - 0s 2ms/step\n",
      "Cicle N: 38\n",
      "10/10 [==============================] - 0s 2ms/step\n",
      "Cicle N: 39\n",
      "10/10 [==============================] - 0s 2ms/step\n",
      "Cicle N: 40\n",
      "10/10 [==============================] - 0s 2ms/step\n",
      "Cicle N: 41\n",
      "10/10 [==============================] - 0s 2ms/step\n",
      "Cicle N: 42\n",
      "10/10 [==============================] - 0s 2ms/step\n",
      "Cicle N: 43\n",
      "10/10 [==============================] - 0s 2ms/step\n",
      "Cicle N: 44\n",
      "10/10 [==============================] - 0s 1ms/step\n",
      "Cicle N: 45\n",
      "10/10 [==============================] - 0s 2ms/step\n",
      "Cicle N: 46\n",
      "10/10 [==============================] - 0s 2ms/step\n",
      "Cicle N: 47\n",
      "10/10 [==============================] - 0s 2ms/step\n",
      "Cicle N: 48\n",
      "10/10 [==============================] - 0s 1ms/step\n",
      "Cicle N: 49\n",
      "10/10 [==============================] - 0s 1ms/step\n",
      "Cicle N: 50\n",
      "10/10 [==============================] - 0s 2ms/step\n"
     ]
    }
   ],
   "source": [
    "epochs = 50\n",
    "mse_list = []\n",
    "for j in range(50):\n",
    "    print(f\"Cicle N: {j+1}\")\n",
    "    X_train, X_test, y_train, y_test = train_test_split(predictors, target, test_size=0.3, random_state=42)\n",
    "    model.fit(X_train, y_train, epochs=epochs, verbose=0)\n",
    "    y_pred = model.predict(X_test)\n",
    "    mse = mean_squared_error(y_test, y_pred)\n",
    "    mse_list.append(mse)"
   ]
  },
  {
   "attachments": {},
   "cell_type": "markdown",
   "metadata": {},
   "source": [
    "5. Report the mean and the standard deviation of the mean squared errors."
   ]
  },
  {
   "cell_type": "code",
   "execution_count": 24,
   "metadata": {},
   "outputs": [
    {
     "name": "stdout",
     "output_type": "stream",
     "text": [
      "Mean of MSE is: 67.33388774314902\n",
      "STD of MSE is: 34.667493301500095\n"
     ]
    }
   ],
   "source": [
    "mse_mean = np.mean(mse_list)\n",
    "mse_std = np.std(mse_list)\n",
    "print(f\"Mean of MSE is: {mse_mean}\")\n",
    "print(f\"STD of MSE is: {mse_std}\")"
   ]
  },
  {
   "cell_type": "code",
   "execution_count": 25,
   "metadata": {},
   "outputs": [
    {
     "data": {
      "image/png": "[encoded data removed]",
      "text/plain": [
       "<Figure size 640x480 with 1 Axes>"
      ]
     },
     "metadata": {},
     "output_type": "display_data"
    }
   ],
   "source": [
    "plt.plot(mse_list)\n",
    "plt.xlabel('Iteration')\n",
    "plt.ylabel('Mean Squared Error')\n",
    "plt.title('Mean Squared Error per Iteration')\n",
    "plt.show()"
   ]
  },
  {
   "attachments": {},
   "cell_type": "markdown",
   "metadata": {},
   "source": [
    "How does the mean of the mean squared errors compare to that from Step A?"
   ]
  },
  {
   "attachments": {},
   "cell_type": "markdown",
   "metadata": {},
   "source": [
    "In previous implementation the next were the results:\n",
    "- Mean of MSE is: 111.81\n",
    "- STD of MSE is: 5.10\n",
    "\n",
    "But now the results are:\n",
    "- Mean of MSE is: 67.33\n",
    "- STD of MSE is: 34.66\n",
    "\n",
    "So, Mean of MSE decreases using a normalization data.\n",
    "But, STD increases 670%\n"
   ]
  },
  {
   "attachments": {},
   "cell_type": "markdown",
   "metadata": {},
   "source": [
    "### Thank you for check my activity!\n",
    "\n",
    "This notebook was created by [Daniel Sanchez](www.linkedin.com/in/cesar-daniel-sanchez)."
   ]
  }
 ],
 "metadata": {
  "kernelspec": {
   "display_name": ".venv",
   "language": "python",
   "name": "python3"
  },
  "language_info": {
   "codemirror_mode": {
    "name": "ipython",
    "version": 3
   },
   "file_extension": ".py",
   "mimetype": "text/x-python",
   "name": "python",
   "nbconvert_exporter": "python",
   "pygments_lexer": "ipython3",
   "version": "3.10.6"
  },
  "orig_nbformat": 4,
  "vscode": {
   "interpreter": {
    "hash": "8c0bac39d1249b3d7958968ac2417c935a0a7a62715a037dee11bd5602042545"
   }
  }
 },
 "nbformat": 4,
 "nbformat_minor": 2
}
